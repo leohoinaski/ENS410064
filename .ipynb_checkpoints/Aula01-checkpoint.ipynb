{
 "cells": [
  {
   "cell_type": "markdown",
   "id": "30f8de96-851b-4cd7-984b-f3f247763fd2",
   "metadata": {},
   "source": [
    "\n",
    "##  Aula 01 -  ENS410064-41010033DO/ME (20233) - Tópicos especiais: Python in Environmental Applications\n",
    "\n",
    ">  Programa de Pós-Graduação em Engenharia Ambiental  \n",
    ">  Universidade Federal de Santa Catarina  \n",
    ">  Professor: Leonardo Hoinaski  \n",
    "\n",
    "Esta aula contém instruções para instalação do GitHub e Python no seu computador. Criaremos uma conta no GitHub e montaremos um respositório para esta disciplina. Também detalharei como instalar pacotes do Python utilizando o comando *pip install*. Trabalharemos com comandos básicos no git, CMD e Python.\n"
   ]
  },
  {
   "cell_type": "markdown",
   "id": "1ef9838e-7027-49dc-9ef1-a0d89ae56333",
   "metadata": {},
   "source": [
    "\n",
    "### Instalação e comando básicos do GitHub\n",
    "\n",
    "> 1. Crie uma conta no GitHub no link https://github.com/ e faço o login.\n",
    ">     \n",
    "> 3. Crie um repositório para a disciplina com o nome de ENS410064 (Repository name*). Clique em \"Add a README file\" e na sequência em \"Create Repository\".\n",
    "> 4. Baixe e instale o GitHub para desktop no link: https://desktop.github.com/\n",
    "> 5. Clone o respositório criado \"ENS410064\" no seu computador (lembre-se do caminho para este respositório no seu computador) clicando em \"Clone a repository from the internet\". Você clonará os arquivos e sincronizará o respositório que foi criado na internet no seu computador. \n",
    "> 6. Vá na pasta criada no seu computador \"ENS410064\" e crie uma pasta dentro dela chamada de *scripts*\n",
    "> 7. Edite o arquivo README.md adicionando seu nome e alguma informação relevante.\n",
    "> 8. Abra a GitHub no seu desktop e perceba que o software detectou mudanças \"changes\"\n",
    "> 9. No canto inferior esquerdo, observe um campo para preencheimento e um botão de \"Commit to main\". Preencha o campo com informações sobre as alterações que você fez e clique neste botão.\n",
    "> 10. Clique em \"Push origin\" para enviar as alterações para o \"main\" ou respositório na internet.\n",
    "> 11. Observe a mudança no seu repositório na internet na sua página do GitHub.\n",
    "\n",
    "A partir de agora vocês conseguem controlar todas as alterações nesta pasta. Sempre que atualizarem um código, façam o \"Commit\" (git commit) e o \"Push\" (git push)\n",
    "\n"
   ]
  },
  {
   "cell_type": "markdown",
   "id": "976342c3-c634-4cec-ad17-a784fdf223fc",
   "metadata": {},
   "source": [
    "\n",
    "### Comandos no CMD/Terminal\n",
    "\n",
    "> 1. No menu pesquisar, digite CMD e enter\n",
    ">    \n",
    "> 3. Navegue nas pastas utilizando os comandos:\n",
    ">     - cd [nome do diretório]\n",
    ">     - cd ..\n",
    "\n",
    "> 4. Crie e delete pastas utilizando os comandos:\n",
    ">     - mkdir\n",
    ">     - del\n",
    ">     - copy\n",
    "\n",
    " "
   ]
  },
  {
   "cell_type": "markdown",
   "id": "4b24e9ed-e967-48a5-afa8-9b5ba4ebfa6b",
   "metadata": {},
   "source": [
    "\n",
    "### Instalação do Python\n",
    "\n",
    "> 1. Baixe um instalador do python na página: https://www.python.org/downloads/windows/. Escolha um instalador estável.\n",
    "> 2. Instale no seu computador. Tente instalar utilizando as configurações padrões. Reinicie seu computador.\n",
    "> 3. Após a instalação, abra o CMD e navegue para sua pasta \"ENS410064\".\n",
    "> 4. Digite o seguinte comando:\n",
    ">    \n",
    ">       *python -m venv pyEnv*\n",
    ">    \n",
    "> 6. Entre na pasta *pyEnv\\Scripts* utilizando o comando cd\n",
    "> 7. Digite: Activate + enter. Deverá aparecer o nome do ambiente virtual (pyEnv) no começo da linha do seu CMD.  \n",
    "> Obs. Se o python não for reconhecido, desinstale e instale novamente adicionando o \"python.exe\" no Path.\n",
    "\n",
    "Nesta parte, vocês criaram um ambiente virtual para instalar seus pacotes. Para compreender qual o papel do ambiente virutal, acesse a página https://docs.python.org/pt-br/3/library/venv.html\n",
    "\n",
    "\n"
   ]
  },
  {
   "cell_type": "markdown",
   "id": "3ebc0c46-8528-4ad8-b98a-19814ea571e7",
   "metadata": {},
   "source": [
    "### Instalação do Jupyter Notebook "
   ]
  },
  {
   "cell_type": "markdown",
   "id": "0139c3ec-ec32-4732-b9b2-7fa33830e5a9",
   "metadata": {},
   "source": [
    "Com o seu ambiente virtual (pyEnv) ativado, digite no CMD:\n",
    "\n",
    "> *pip install notebook*\n",
    "\n",
    "Entre na pasta raiz \"ENS410064\" e em seguida, digite no CMD:  \n",
    "\n",
    "> *jupyter notebook*\n",
    "\n",
    "Assim, seu notebook será aberto nesta pasta e você poderá criar arquivos nela. \n",
    "Você pode criar seu notebook em:  \n",
    "\n",
    "> *file > new > notebook*\n",
    "\n",
    "Crie seu notebook e salve. Veja que esta alteração foi "
   ]
  },
  {
   "cell_type": "markdown",
   "id": "5e8b875a-85d7-4dca-bdce-6600f96a1ad4",
   "metadata": {},
   "source": []
  },
  {
   "cell_type": "markdown",
   "id": "26715497-3a35-4d0a-8484-c7602af9a96b",
   "metadata": {},
   "source": []
  },
  {
   "cell_type": "code",
   "execution_count": null,
   "id": "679dc9f4-31d6-4d78-9bbc-b0e9cbfc1f91",
   "metadata": {},
   "outputs": [],
   "source": []
  },
  {
   "cell_type": "code",
   "execution_count": null,
   "id": "2d440b83-0e3d-4cbe-8c3e-241c99ac7327",
   "metadata": {},
   "outputs": [],
   "source": []
  }
 ],
 "metadata": {
  "kernelspec": {
   "display_name": "Python 3 (ipykernel)",
   "language": "python",
   "name": "python3"
  },
  "language_info": {
   "codemirror_mode": {
    "name": "ipython",
    "version": 3
   },
   "file_extension": ".py",
   "mimetype": "text/x-python",
   "name": "python",
   "nbconvert_exporter": "python",
   "pygments_lexer": "ipython3",
   "version": "3.10.12"
  }
 },
 "nbformat": 4,
 "nbformat_minor": 5
}
