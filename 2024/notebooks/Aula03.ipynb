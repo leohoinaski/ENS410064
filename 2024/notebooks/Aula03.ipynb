{
 "cells": [
  {
   "cell_type": "markdown",
   "id": "3399a3b7-9062-45ce-88cc-e8c09013a1e6",
   "metadata": {},
   "source": [
    "# Aula 03\n",
    "\n",
    "* pacote os\n",
    "* datetime\n",
    "* pacote scipy\n",
    "\n"
   ]
  },
  {
   "cell_type": "markdown",
   "id": "66288efe-e433-4f7a-abd4-edd6d2a74f12",
   "metadata": {},
   "source": [
    "## Utilizando o pacote OS\n",
    "Baixando os dados de https://hoinaski.prof.ufsc.br/BRAIN/\n"
   ]
  },
  {
   "cell_type": "code",
   "execution_count": null,
   "id": "7c726e64-62ca-4ae7-84c8-ec7a4e2b529f",
   "metadata": {},
   "outputs": [],
   "source": []
  }
 ],
 "metadata": {
  "kernelspec": {
   "display_name": "Python 3 (ipykernel)",
   "language": "python",
   "name": "python3"
  },
  "language_info": {
   "codemirror_mode": {
    "name": "ipython",
    "version": 3
   },
   "file_extension": ".py",
   "mimetype": "text/x-python",
   "name": "python",
   "nbconvert_exporter": "python",
   "pygments_lexer": "ipython3",
   "version": "3.11.8"
  }
 },
 "nbformat": 4,
 "nbformat_minor": 5
}
