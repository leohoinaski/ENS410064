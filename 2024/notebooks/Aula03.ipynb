{
 "cells": [
  {
   "cell_type": "markdown",
   "id": "3399a3b7-9062-45ce-88cc-e8c09013a1e6",
   "metadata": {},
   "source": [
    "# Aula 03\n",
    "\n",
    "* pacote os\n",
    "* datetime\n",
    "* pacote scipy\n",
    "\n"
   ]
  },
  {
   "cell_type": "markdown",
   "id": "003f60e5-ac1a-4ad9-9f66-c8de468e6419",
   "metadata": {},
   "source": [
    "## README\n",
    "Crie uma pasta de dados no diretório 2024, caso você clone este repositório. Alternativamente, você pode criar uma pasta no mesmo diretório deste jupyter notebook com nome de dados"
   ]
  },
  {
   "cell_type": "markdown",
   "id": "66288efe-e433-4f7a-abd4-edd6d2a74f12",
   "metadata": {},
   "source": [
    "## Utilizando o pacote OS\n",
    "Baixando os dados de https://hoinaski.prof.ufsc.br/BRAIN/getMETAR\n"
   ]
  },
  {
   "cell_type": "code",
   "execution_count": 1,
   "id": "7c726e64-62ca-4ae7-84c8-ec7a4e2b529f",
   "metadata": {},
   "outputs": [],
   "source": [
    "# Importanto pacote os\n",
    "import os\n",
    "import numpy as np\n",
    "import pandas as pd"
   ]
  },
  {
   "cell_type": "code",
   "execution_count": 29,
   "id": "3cb464d4-0483-441a-b948-b53666cf4cd2",
   "metadata": {},
   "outputs": [
    {
     "name": "stdout",
     "output_type": "stream",
     "text": [
      "Diretório atual: C:\\Users\\Leonardo.Hoinaski\\Documents\\ENS410064\\2024\\notebooks\n",
      "Diretório de dados:C:\\Users\\Leonardo.Hoinaski\\Documents\\ENS410064\\2024\\dados\n"
     ]
    }
   ],
   "source": [
    "# Extraindo o diretório que estamos trabalhando\n",
    "cwd = os.getcwd()\n",
    "\n",
    "print('Diretório atual: ' + cwd)\n",
    "\n",
    "\n",
    "# Estabelecendo a pasta de dados que quero utilizar\n",
    "dataPath = os.path.dirname(cwd) +'\\\\dados'\n",
    "\n",
    "print('Diretório de dados:' + dataPath)"
   ]
  },
  {
   "cell_type": "code",
   "execution_count": 52,
   "id": "0e10863b-76ed-4fa7-b92f-89ed3242af09",
   "metadata": {},
   "outputs": [
    {
     "name": "stdout",
     "output_type": "stream",
     "text": [
      "['Deg2UTM.csv', 'metar_FORT_2023.csv', 'metar_SBFL_2022.csv', 'metar_SBFL_2023.csv', 'metar_SBFL_2024.csv', 'Nova pasta', 'UPPERAIR(1).UA']\n"
     ]
    },
    {
     "data": {
      "text/plain": [
       "'Deg2UTM.csv'"
      ]
     },
     "execution_count": 52,
     "metadata": {},
     "output_type": "execute_result"
    }
   ],
   "source": [
    "# Listar documentos que estão dentro da pasta de dados\n",
    "# Extraindo o nome dos arquivos dentro da pasta\n",
    "dataList = os.listdir(dataPath)\n",
    "\n",
    "print(dataList)\n",
    "\n",
    "dataList[0]"
   ]
  },
  {
   "cell_type": "code",
   "execution_count": 56,
   "id": "7adcdb16-16c0-4bfc-9bd4-4eb6367e61b2",
   "metadata": {},
   "outputs": [
    {
     "name": "stdout",
     "output_type": "stream",
     "text": [
      "['metar_FORT_2023.csv', 'metar_SBFL_2022.csv', 'metar_SBFL_2023.csv', 'metar_SBFL_2024.csv']\n"
     ]
    }
   ],
   "source": [
    "# Listando arquivos com o nome iniciando em metar\n",
    "prefixed = [filename for filename in os.listdir(dataPath) if filename.startswith(\"metar\")]\n",
    "\n",
    "print(prefixed)"
   ]
  },
  {
   "cell_type": "code",
   "execution_count": 53,
   "id": "29c2a1ef-2a32-4731-8109-54b4b93a808d",
   "metadata": {},
   "outputs": [
    {
     "name": "stdout",
     "output_type": "stream",
     "text": [
      "Não é um arquivo\n",
      "['2022' '2023' '2024' 'Deg2UTM' 'UPPERAIR(1)']\n"
     ]
    },
    {
     "ename": "IndexError",
     "evalue": "list index out of range",
     "output_type": "error",
     "traceback": [
      "\u001b[1;31m------------------------------------------------------------------------\u001b[0m",
      "\u001b[1;31mIndexError\u001b[0m                             Traceback (most recent call last)",
      "Cell \u001b[1;32mIn[53], line 17\u001b[0m\n\u001b[0;32m     15\u001b[0m \u001b[38;5;28;01mfor\u001b[39;00m dl \u001b[38;5;129;01min\u001b[39;00m dataList:\n\u001b[0;32m     16\u001b[0m     \u001b[38;5;28;01mif\u001b[39;00m os\u001b[38;5;241m.\u001b[39mpath\u001b[38;5;241m.\u001b[39misfile(dataPath\u001b[38;5;241m+\u001b[39m\u001b[38;5;124m'\u001b[39m\u001b[38;5;130;01m\\\\\u001b[39;00m\u001b[38;5;124m'\u001b[39m\u001b[38;5;241m+\u001b[39mdl):\n\u001b[1;32m---> 17\u001b[0m         stations\u001b[38;5;241m.\u001b[39mappend(\u001b[43mdl\u001b[49m\u001b[38;5;241;43m.\u001b[39;49m\u001b[43msplit\u001b[49m\u001b[43m(\u001b[49m\u001b[38;5;124;43m'\u001b[39;49m\u001b[38;5;124;43m_\u001b[39;49m\u001b[38;5;124;43m'\u001b[39;49m\u001b[43m)\u001b[49m\u001b[43m[\u001b[49m\u001b[38;5;241;43m-\u001b[39;49m\u001b[38;5;241;43m2\u001b[39;49m\u001b[43m]\u001b[49m)\n\u001b[0;32m     18\u001b[0m     \u001b[38;5;28;01melse\u001b[39;00m:\n\u001b[0;32m     19\u001b[0m         \u001b[38;5;28mprint\u001b[39m(\u001b[38;5;124m'\u001b[39m\u001b[38;5;124mNão é um arquivo\u001b[39m\u001b[38;5;124m'\u001b[39m)\n",
      "\u001b[1;31mIndexError\u001b[0m: list index out of range"
     ]
    }
   ],
   "source": [
    "# Extraindo os anos dos dados\n",
    "# Trabalhando com o nome dos arquivos\n",
    "years = []\n",
    "for dl in dataList:\n",
    "    if os.path.isfile(dataPath+'\\\\'+dl):\n",
    "        years.append(dl.split('_')[-1].split('.')[0])\n",
    "    else:\n",
    "        print('Não é um arquivo')\n",
    "\n",
    "years = np.unique(years)\n",
    "print(years)\n",
    "\n",
    "\n",
    "# Extraindo as estações de dados\n",
    "stations = []\n",
    "for dl in dataList:\n",
    "    if os.path.isfile(dataPath+'\\\\'+dl):\n",
    "        stations.append(dl.split('_')[-2])\n",
    "    else:\n",
    "        print('Não é um arquivo')\n",
    "\n",
    "stations = np.unique(stations)\n",
    "print(stations)\n"
   ]
  },
  {
   "cell_type": "code",
   "execution_count": 31,
   "id": "b7bd5cd5-e9a2-44cf-9008-c15cd4ca6ba1",
   "metadata": {},
   "outputs": [
    {
     "name": "stdout",
     "output_type": "stream",
     "text": [
      "metar_FOR_2023.csv\n",
      "metar_SBFL_2022.csv\n",
      "metar_SBFL_2023.csv\n",
      "metar_SBFL_2024.csv\n"
     ]
    },
    {
     "data": {
      "text/html": [
       "<div>\n",
       "<style scoped>\n",
       "    .dataframe tbody tr th:only-of-type {\n",
       "        vertical-align: middle;\n",
       "    }\n",
       "\n",
       "    .dataframe tbody tr th {\n",
       "        vertical-align: top;\n",
       "    }\n",
       "\n",
       "    .dataframe thead th {\n",
       "        text-align: right;\n",
       "    }\n",
       "</style>\n",
       "<table border=\"1\" class=\"dataframe\">\n",
       "  <thead>\n",
       "    <tr style=\"text-align: right;\">\n",
       "      <th></th>\n",
       "      <th>day</th>\n",
       "      <th>month</th>\n",
       "      <th>year</th>\n",
       "      <th>hour</th>\n",
       "      <th>ct</th>\n",
       "      <th>wd</th>\n",
       "      <th>ws</th>\n",
       "      <th>hc</th>\n",
       "      <th>ccp</th>\n",
       "      <th>cco</th>\n",
       "      <th>p</th>\n",
       "      <th>temp</th>\n",
       "      <th>dpTemp</th>\n",
       "      <th>vis</th>\n",
       "      <th>pw</th>\n",
       "      <th>relh</th>\n",
       "    </tr>\n",
       "  </thead>\n",
       "  <tbody>\n",
       "    <tr>\n",
       "      <th>0</th>\n",
       "      <td>1</td>\n",
       "      <td>1</td>\n",
       "      <td>2023</td>\n",
       "      <td>0</td>\n",
       "      <td>NaN</td>\n",
       "      <td>90.0</td>\n",
       "      <td>3.601108</td>\n",
       "      <td>NaN</td>\n",
       "      <td>NaN</td>\n",
       "      <td>NaN</td>\n",
       "      <td>1009.662022</td>\n",
       "      <td>28.0</td>\n",
       "      <td>23.0</td>\n",
       "      <td>NaN</td>\n",
       "      <td>0.0</td>\n",
       "      <td>74.28</td>\n",
       "    </tr>\n",
       "    <tr>\n",
       "      <th>1</th>\n",
       "      <td>1</td>\n",
       "      <td>1</td>\n",
       "      <td>2023</td>\n",
       "      <td>1</td>\n",
       "      <td>NaN</td>\n",
       "      <td>100.0</td>\n",
       "      <td>4.629996</td>\n",
       "      <td>640.08</td>\n",
       "      <td>3.0</td>\n",
       "      <td>3.0</td>\n",
       "      <td>1009.662022</td>\n",
       "      <td>28.0</td>\n",
       "      <td>24.0</td>\n",
       "      <td>NaN</td>\n",
       "      <td>0.0</td>\n",
       "      <td>78.90</td>\n",
       "    </tr>\n",
       "    <tr>\n",
       "      <th>2</th>\n",
       "      <td>1</td>\n",
       "      <td>1</td>\n",
       "      <td>2023</td>\n",
       "      <td>2</td>\n",
       "      <td>NaN</td>\n",
       "      <td>100.0</td>\n",
       "      <td>4.629996</td>\n",
       "      <td>670.56</td>\n",
       "      <td>3.0</td>\n",
       "      <td>3.0</td>\n",
       "      <td>1009.665616</td>\n",
       "      <td>27.0</td>\n",
       "      <td>24.0</td>\n",
       "      <td>NaN</td>\n",
       "      <td>0.0</td>\n",
       "      <td>83.66</td>\n",
       "    </tr>\n",
       "    <tr>\n",
       "      <th>3</th>\n",
       "      <td>1</td>\n",
       "      <td>1</td>\n",
       "      <td>2023</td>\n",
       "      <td>3</td>\n",
       "      <td>NaN</td>\n",
       "      <td>100.0</td>\n",
       "      <td>4.629996</td>\n",
       "      <td>670.56</td>\n",
       "      <td>3.0</td>\n",
       "      <td>3.0</td>\n",
       "      <td>1009.665616</td>\n",
       "      <td>27.0</td>\n",
       "      <td>23.0</td>\n",
       "      <td>NaN</td>\n",
       "      <td>0.0</td>\n",
       "      <td>78.76</td>\n",
       "    </tr>\n",
       "    <tr>\n",
       "      <th>4</th>\n",
       "      <td>1</td>\n",
       "      <td>1</td>\n",
       "      <td>2023</td>\n",
       "      <td>4</td>\n",
       "      <td>NaN</td>\n",
       "      <td>110.0</td>\n",
       "      <td>4.629996</td>\n",
       "      <td>670.56</td>\n",
       "      <td>3.0</td>\n",
       "      <td>3.0</td>\n",
       "      <td>1009.669209</td>\n",
       "      <td>27.0</td>\n",
       "      <td>23.0</td>\n",
       "      <td>NaN</td>\n",
       "      <td>0.0</td>\n",
       "      <td>78.76</td>\n",
       "    </tr>\n",
       "  </tbody>\n",
       "</table>\n",
       "</div>"
      ],
      "text/plain": [
       "   day  month  year  hour  ct     wd        ws      hc  ccp  cco            p  \\\n",
       "0    1      1  2023     0 NaN   90.0  3.601108     NaN  NaN  NaN  1009.662022   \n",
       "1    1      1  2023     1 NaN  100.0  4.629996  640.08  3.0  3.0  1009.662022   \n",
       "2    1      1  2023     2 NaN  100.0  4.629996  670.56  3.0  3.0  1009.665616   \n",
       "3    1      1  2023     3 NaN  100.0  4.629996  670.56  3.0  3.0  1009.665616   \n",
       "4    1      1  2023     4 NaN  110.0  4.629996  670.56  3.0  3.0  1009.669209   \n",
       "\n",
       "   temp  dpTemp  vis   pw   relh  \n",
       "0  28.0    23.0  NaN  0.0  74.28  \n",
       "1  28.0    24.0  NaN  0.0  78.90  \n",
       "2  27.0    24.0  NaN  0.0  83.66  \n",
       "3  27.0    23.0  NaN  0.0  78.76  \n",
       "4  27.0    23.0  NaN  0.0  78.76  "
      ]
     },
     "execution_count": 31,
     "metadata": {},
     "output_type": "execute_result"
    }
   ],
   "source": [
    "# lendo todos os arquivos da pasta\n",
    "# Todos os dados devem estar no mesmo formato, com as mesmas colunas\n",
    "dataAll=[]\n",
    "for dl in dataList:\n",
    "    print(dl)\n",
    "    data = pd.read_csv(dataPath+'\\\\'+dl)\n",
    "    dataAll.append(data)\n",
    "\n",
    "# Concatenando a lista de dados\n",
    "dataAll = pd.concat(dataAll)\n",
    "dataAll.head()"
   ]
  },
  {
   "cell_type": "code",
   "execution_count": null,
   "id": "05426f8f-73ff-4e49-b4bc-fec71147e69b",
   "metadata": {},
   "outputs": [],
   "source": []
  }
 ],
 "metadata": {
  "kernelspec": {
   "display_name": "Python 3 (ipykernel)",
   "language": "python",
   "name": "python3"
  },
  "language_info": {
   "codemirror_mode": {
    "name": "ipython",
    "version": 3
   },
   "file_extension": ".py",
   "mimetype": "text/x-python",
   "name": "python",
   "nbconvert_exporter": "python",
   "pygments_lexer": "ipython3",
   "version": "3.11.8"
  }
 },
 "nbformat": 4,
 "nbformat_minor": 5
}
