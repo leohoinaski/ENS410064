{
 "cells": [
  {
   "cell_type": "markdown",
   "id": "f6a697bf-1649-417c-b46f-46f3026727cf",
   "metadata": {},
   "source": [
    "# Aula 01 \n",
    "Nesta aula vamos trabalhar com os comando básicos do Python. \n",
    "\n",
    "- Tipo de variáveis\n",
    "- loop"
   ]
  },
  {
   "cell_type": "markdown",
   "id": "d362440a-8c84-4b1b-a4b3-f64e0b8001bc",
   "metadata": {},
   "source": [
    "## Tipos de variáveis"
   ]
  },
  {
   "cell_type": "code",
   "execution_count": 5,
   "id": "8ffc58a5-2548-4b5e-bebc-bbff437fe8a1",
   "metadata": {},
   "outputs": [
    {
     "name": "stdout",
     "output_type": "stream",
     "text": [
      "O valor de a é igual a 1 funcionou após transformar em uma string\n",
      "<class 'int'>\n"
     ]
    }
   ],
   "source": [
    "# números inteiros - int - integer\n",
    "\n",
    "a = 1\n",
    "\n",
    "# printa na tela\n",
    "print('O valor de a é igual a ' + str(a) + ' funcionou após transformar em uma string')\n",
    "\n",
    "print(type(a))"
   ]
  },
  {
   "cell_type": "code",
   "execution_count": 9,
   "id": "365f3c96-97c4-4c79-991e-da1eeaba2b57",
   "metadata": {},
   "outputs": [
    {
     "name": "stdout",
     "output_type": "stream",
     "text": [
      "O valor de b é igual a 3.1416 (funcionou após transformar em uma string)\n",
      "<class 'float'>\n"
     ]
    }
   ],
   "source": [
    "# números reais - float - double - double precision\n",
    "\n",
    "b = 3.1416\n",
    "\n",
    "print('O valor de b é igual a ' + str(b) + ' (funcionou após transformar em uma string)')\n",
    "\n",
    "print(type(b))"
   ]
  },
  {
   "cell_type": "code",
   "execution_count": 11,
   "id": "4c9aa9c4-5d3f-4d8e-bc9d-cf6def057c1e",
   "metadata": {},
   "outputs": [
    {
     "name": "stdout",
     "output_type": "stream",
     "text": [
      "Bianca está fazendo bagunça com ajuda de Bruno e Ana Julia\n",
      "<class 'str'>\n"
     ]
    }
   ],
   "source": [
    "# texto  - char - string\n",
    "\n",
    "c = 'Bianca está fazendo bagunça'\n",
    "\n",
    "d = ' com ajuda de '\n",
    "\n",
    "e = 'Bruno e Ana Julia'\n",
    "\n",
    "print(c + d + e)\n",
    "\n",
    "print(type(c))"
   ]
  },
  {
   "cell_type": "code",
   "execution_count": 22,
   "id": "3f0bdb97-d417-46b2-b76b-d1eb7e0275aa",
   "metadata": {},
   "outputs": [
    {
     "name": "stdout",
     "output_type": "stream",
     "text": [
      "['Marcos', 'Maria Eduarda', 'Djesser', 'Rafael']\n",
      "<class 'list'>\n",
      "O tamanho da lista é 4\n",
      "[1, 2, 3, 10, 7]\n",
      "[10, 10, 10, 6.5, 'José', 'Marcos', 'Rafael', 'Bruno']\n"
     ]
    }
   ],
   "source": [
    "##### Lista de texto - list\n",
    "\n",
    "namesList = ['Marcos', 'Maria Eduarda', 'Djesser', 'Rafael']\n",
    "\n",
    "print(namesList)\n",
    "\n",
    "print(type(namesList))\n",
    "\n",
    "# comando para identificar o tamanho da lista\n",
    "print('O tamanho da lista é ' + str(len(namesList)))\n",
    "\n",
    "\n",
    "# Agora, uma lista de números \n",
    "\n",
    "numList = [1,2,3,10,7]\n",
    "\n",
    "print(numList)\n",
    "\n",
    "\n",
    "# Agoram, uma lista de números e strings\n",
    "\n",
    "numNameList = [10,10,10,6.5,'José', 'Marcos','Rafael','Bruno']\n",
    "\n",
    "print(numNameList)\n"
   ]
  },
  {
   "cell_type": "code",
   "execution_count": 26,
   "id": "2eff7c25-2f8e-43b0-adcc-7aa6a4455065",
   "metadata": {},
   "outputs": [
    {
     "name": "stdout",
     "output_type": "stream",
     "text": [
      "Marcos\n",
      "<class 'str'>\n"
     ]
    }
   ],
   "source": [
    "# Acessando os valores da lista\n",
    "\n",
    "# Acessando o primeiro valor da lista namesList\n",
    "print(namesList[0])\n",
    "\n",
    "# Determina o tipo da variável na posição 0 da lista\n",
    "print(type(namesList[0]))"
   ]
  },
  {
   "cell_type": "code",
   "execution_count": 37,
   "id": "7d8cb7de-252c-4171-9be9-c65ef0324769",
   "metadata": {},
   "outputs": [
    {
     "name": "stdout",
     "output_type": "stream",
     "text": [
      "<class 'dict'>\n",
      "[1.95, 1.67, 1.63]\n",
      "Larissa\n"
     ]
    }
   ],
   "source": [
    "# Dicionários\n",
    "\n",
    "namesDict = {\n",
    "    'name': ['Marcos', 'Larissa', 'Daphne'],\n",
    "    'Altura': [1.95, 1.67, 1.63],\n",
    "}\n",
    "\n",
    "print(type(namesDict))\n",
    "\n",
    "# Extraindo os valores da variáveis Altura dentro do dicionário namesDict\n",
    "\n",
    "print(namesDict['Altura'])\n",
    "\n",
    "# Extraindo o segundo valor da variável Altura dentro do dicionário namesDict\n",
    "\n",
    "print(namesDict['name'][1])\n"
   ]
  },
  {
   "cell_type": "code",
   "execution_count": 43,
   "id": "3916190b-b2e4-4df1-8a12-21e448b81d3c",
   "metadata": {},
   "outputs": [
    {
     "name": "stdout",
     "output_type": "stream",
     "text": [
      "1.95\n",
      "1.67\n",
      "1.63\n",
      "A soma das alturas é = 5.25\n",
      "índice da matriz é 0 e a altura de Marcos é 1.95\n",
      "índice da matriz é 1 e a altura de Larissa é 1.67\n",
      "índice da matriz é 2 e a altura de Daphne é 1.63\n"
     ]
    }
   ],
   "source": [
    "# Soma das alturas do dicionário namesDictc utilizando loop\n",
    "somaDasAlturas = 0\n",
    "for alturas in namesDict['Altura']:\n",
    "    print(alturas)\n",
    "    somaDasAlturas = somaDasAlturas + alturas\n",
    "print('A soma das alturas é = '+str(somaDasAlturas))\n",
    "\n",
    "\n",
    "# Usando outra forma de loop\n",
    "for ii,alturas in enumerate(namesDict['Altura']):\n",
    "    print('índice da matriz é '+ str(ii) + ' e a altura de ' +str(namesDict['name'][ii]) + ' é ' +str(alturas) )\n",
    "\n",
    "\n"
   ]
  },
  {
   "cell_type": "code",
   "execution_count": null,
   "id": "780e2518-f344-4ba1-bc31-d4d736b394fe",
   "metadata": {},
   "outputs": [],
   "source": []
  }
 ],
 "metadata": {
  "kernelspec": {
   "display_name": "Python 3 (ipykernel)",
   "language": "python",
   "name": "python3"
  },
  "language_info": {
   "codemirror_mode": {
    "name": "ipython",
    "version": 3
   },
   "file_extension": ".py",
   "mimetype": "text/x-python",
   "name": "python",
   "nbconvert_exporter": "python",
   "pygments_lexer": "ipython3",
   "version": "3.11.8"
  }
 },
 "nbformat": 4,
 "nbformat_minor": 5
}
