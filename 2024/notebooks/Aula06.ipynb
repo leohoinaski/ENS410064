{
 "cells": [
  {
   "cell_type": "markdown",
   "id": "7a16d1bf-0d42-4310-9154-8f133fe68e37",
   "metadata": {},
   "source": [
    "# Aula 06 - Dados nD - netCDF\n",
    "\n",
    "Nesta aula trabalhamos com dados 3 ou 4 D em formato netCDF. \n",
    "Utilizamos o pacote https://docs.xarray.dev/en/stable/ e  trabalharemos com os dados da plataforma\n",
    "https://disc.gsfc.nasa.gov/"
   ]
  },
  {
   "cell_type": "code",
   "execution_count": null,
   "id": "ec122d67-c973-4c48-b96c-8a4a592d4490",
   "metadata": {},
   "outputs": [],
   "source": []
  }
 ],
 "metadata": {
  "kernelspec": {
   "display_name": "Python 3 (ipykernel)",
   "language": "python",
   "name": "python3"
  },
  "language_info": {
   "codemirror_mode": {
    "name": "ipython",
    "version": 3
   },
   "file_extension": ".py",
   "mimetype": "text/x-python",
   "name": "python",
   "nbconvert_exporter": "python",
   "pygments_lexer": "ipython3",
   "version": "3.11.8"
  }
 },
 "nbformat": 4,
 "nbformat_minor": 5
}
