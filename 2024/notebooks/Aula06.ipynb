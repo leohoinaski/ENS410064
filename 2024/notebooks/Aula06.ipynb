{
 "cells": [
  {
   "cell_type": "markdown",
   "id": "7a16d1bf-0d42-4310-9154-8f133fe68e37",
   "metadata": {},
   "source": [
    "# Aula 06 - Dados nD - netCDF\n",
    "\n",
    "Nesta aula trabalhamos com dados 3 ou 4 D em formato netCDF. \n",
    "Utilizamos o pacote https://docs.xarray.dev/en/stable/ e  trabalharemos com os dados da plataforma\n",
    "https://disc.gsfc.nasa.gov/"
   ]
  },
  {
   "cell_type": "markdown",
   "id": "fbca4a20-93de-46de-9673-afbb23716364",
   "metadata": {},
   "source": [
    "## Baixando os dados do GESDISC\n",
    "- Crie um login para você\n",
    "- Digite uma palavra-chave que descreva o dado que desejar\n",
    "- Baixe o dado para um determinado período\n",
    "- https://disc.gsfc.nasa.gov/datasets/MERRA2_CNN_HAQAST_PM25_1/summary?keywords=air%20quality\n",
    "- https://github.com/nasa/gesdisc-tutorials/blob/main/notebooks/How_to_Access_GES_DISC_Data_Using_Python.ipynb\n",
    "- \n",
    "\n"
   ]
  },
  {
   "cell_type": "code",
   "execution_count": 6,
   "id": "13950c8e-e9a3-494b-a99a-54f722faf5a5",
   "metadata": {},
   "outputs": [
    {
     "name": "stdout",
     "output_type": "stream",
     "text": [
      "C:\\Users\\Leonardo.Hoinaski\\Documents\\ENS410064\\2024\\notebooks\n",
      "['1728675725931.csv', 'BR_Pais_2022', 'BR_Pais_2022.zip', 'BR_UF_2022', 'BR_UF_2022.zip', 'Deg2UTM.csv', 'EZ_AERMOD_leohoinaski_2024-11-14', 'EZ_AERMOD_leohoinaski_2024-11-14.zip', 'FINNv2.5.1_modvrs_nrt_GEOSCHEM_20240708.txt', 'MERRA2_HAQAST_CNN_L4_V1.20240505.nc4', 'MERRA2_HAQAST_CNN_L4_V1.20240506.nc4', 'metar_FORT_2023.csv', 'metar_SBFL_2022.csv', 'metar_SBFL_2023.csv', 'metar_SBFL_2024.csv', 'SC_distritos_CD2022', 'SC_distritos_CD2022.zip', 'UPPERAIR(1).UA']\n",
      "['MERRA2_HAQAST_CNN_L4_V1.20240505.nc4', 'MERRA2_HAQAST_CNN_L4_V1.20240506.nc4']\n"
     ]
    }
   ],
   "source": [
    "# Caminhos para a pasta de dados\n",
    "import os \n",
    "\n",
    "# Pasta atual\n",
    "pastaAtual = os.getcwd()\n",
    "print(pastaAtual)\n",
    "\n",
    "# Pasta de dados\n",
    "pastaDados = r'C:\\Users\\Leonardo.Hoinaski\\Documents\\ENS410064\\2024\\dados'\n",
    "listaDados = os.listdir(pastaDados)\n",
    "\n",
    "# Listando arquivos\n",
    "print(listaDados)\n",
    "\n",
    "# Selecionando arquivos do MERRA2\n",
    "prefixed = [filename for filename in os.listdir(pastaDados) if filename.startswith(\"MERRA2\")]\n",
    "print(prefixed)"
   ]
  },
  {
   "cell_type": "code",
   "execution_count": 7,
   "id": "0634f312-ef1b-459f-ae40-28b403549cad",
   "metadata": {},
   "outputs": [],
   "source": [
    "# Abrir arquivos do MERRA utilizando o xarray\n",
    "import xarray as xr\n",
    "\n",
    "dataset = xr.Dataset()"
   ]
  },
  {
   "cell_type": "code",
   "execution_count": null,
   "id": "123f8332-b987-47d1-81c0-0c2b0f56643f",
   "metadata": {},
   "outputs": [],
   "source": []
  }
 ],
 "metadata": {
  "kernelspec": {
   "display_name": "Python 3 (ipykernel)",
   "language": "python",
   "name": "python3"
  },
  "language_info": {
   "codemirror_mode": {
    "name": "ipython",
    "version": 3
   },
   "file_extension": ".py",
   "mimetype": "text/x-python",
   "name": "python",
   "nbconvert_exporter": "python",
   "pygments_lexer": "ipython3",
   "version": "3.11.8"
  }
 },
 "nbformat": 4,
 "nbformat_minor": 5
}
