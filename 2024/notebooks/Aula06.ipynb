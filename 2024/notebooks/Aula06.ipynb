{
 "cells": [
  {
   "cell_type": "markdown",
   "id": "7a16d1bf-0d42-4310-9154-8f133fe68e37",
   "metadata": {},
   "source": [
    "# Aula 06 - Dados nD - netCDF\n",
    "\n",
    "Nesta aula trabalhamos com dados 3 ou 4 D em formato netCDF. \n",
    "Utilizamos o pacote https://docs.xarray.dev/en/stable/ e  trabalharemos com os dados da plataforma\n",
    "https://disc.gsfc.nasa.gov/"
   ]
  },
  {
   "cell_type": "markdown",
   "id": "fbca4a20-93de-46de-9673-afbb23716364",
   "metadata": {},
   "source": [
    "## Baixando os dados do GESDISC\n",
    "- Crie um login para você\n",
    "- Digite uma palavra-chave que descreva o dado que desejar\n",
    "- Baixe o dado para um determinado período\n",
    "- https://disc.gsfc.nasa.gov/datasets/MERRA2_CNN_HAQAST_PM25_1/summary?keywords=air%20quality\n",
    "- https://github.com/nasa/gesdisc-tutorials/blob/main/notebooks/How_to_Access_GES_DISC_Data_Using_Python.ipynb\n",
    "- \n",
    "\n"
   ]
  },
  {
   "cell_type": "code",
   "execution_count": 26,
   "id": "13950c8e-e9a3-494b-a99a-54f722faf5a5",
   "metadata": {},
   "outputs": [
    {
     "name": "stdout",
     "output_type": "stream",
     "text": [
      "C:\\Users\\Leonardo.Hoinaski\\Documents\\ENS410064\\2024\\dados\n",
      "['1728675725931.csv', 'BR_Pais_2022', 'BR_Pais_2022.zip', 'BR_UF_2022', 'BR_UF_2022.zip', 'Deg2UTM.csv', 'EZ_AERMOD_leohoinaski_2024-11-14', 'EZ_AERMOD_leohoinaski_2024-11-14.zip', 'FINNv2.5.1_modvrs_nrt_GEOSCHEM_20240708.txt', 'MERRA2_HAQAST_CNN_L4_V1.20240505.nc4', 'MERRA2_HAQAST_CNN_L4_V1.20240506.nc4', 'metar_FORT_2023.csv', 'metar_SBFL_2022.csv', 'metar_SBFL_2023.csv', 'metar_SBFL_2024.csv', 'SC_distritos_CD2022', 'SC_distritos_CD2022.zip', 'UPPERAIR(1).UA']\n",
      "['MERRA2_HAQAST_CNN_L4_V1.20240505.nc4', 'MERRA2_HAQAST_CNN_L4_V1.20240506.nc4']\n"
     ]
    }
   ],
   "source": [
    "# Caminhos para a pasta de dados\n",
    "import os \n",
    "\n",
    "# Pasta atual\n",
    "pastaAtual = os.getcwd()\n",
    "print(pastaAtual)\n",
    "\n",
    "# Pasta de dados\n",
    "pastaDados = r'C:\\Users\\Leonardo.Hoinaski\\Documents\\ENS410064\\2024\\dados'\n",
    "listaDados = os.listdir(pastaDados)\n",
    "\n",
    "# Listando arquivos\n",
    "print(listaDados)\n",
    "\n",
    "# Selecionando arquivos do MERRA2\n",
    "prefixed = [filename for filename in os.listdir(pastaDados) if filename.startswith(\"MERRA2\")]\n",
    "print(prefixed)"
   ]
  },
  {
   "cell_type": "code",
   "execution_count": 27,
   "id": "0634f312-ef1b-459f-ae40-28b403549cad",
   "metadata": {},
   "outputs": [
    {
     "name": "stdout",
     "output_type": "stream",
     "text": [
      "<class 'netCDF4.Dataset'>\n",
      "root group (NETCDF4 data model, file format HDF5):\n",
      "    Comment: filename: MERRA2_HAQAST_CNN_L4_V1_20240505.nc4\n",
      "    Filename: MERRA2_HAQAST_CNN_L4_V1_20240505.nc4\n",
      "    Conventions: CF-1\n",
      "    Institution: NASA Goddard Space Flight Center\n",
      "    References: http://gmao.gsfc.nasa.gov ; https://doi.org/10.4209/aaqr.210105 ; https://doi.org/10.1029/2022EA002375\n",
      "    Format: NetCDF-4/HDF-5\n",
      "    SpatialCoverage: global\n",
      "    VersionID: V1\n",
      "    TemporalRange: 2000-01-01 -> 2024-12-31\n",
      "    identifier_product_doi_authority: http://dx.doi.org/\n",
      "    ShortName: MERRA2_CNN_HAQAST_PM25\n",
      "    GranuleID: MERRA2_HAQAST_CNN_L4_V1_20240505.nc4\n",
      "    ProductionDateTime: 2024-06-25T01:34:15.870456Z\n",
      "    LongName: MERRA2_CNN_HAQAST bias corrected global hourly surface total PM2.5 mass concentration V1.0\n",
      "    title: MERRA2_CNN_HAQAST bias corrected global hourly surface total PM2.5 mass concentration V1.0\n",
      "    SouthernmostLatitude: -90.0\n",
      "    NorthernmostLatitude: 90.0\n",
      "    WesternmostLongitude: -180.0\n",
      "    EasternmostLongitude: 179.375\n",
      "    LatitudeResolution: 0.5\n",
      "    LongitudeResolution: 0.625\n",
      "    DataResolution: 0.5 x 0.625\n",
      "    Source: M2T1NXAER_5.12.4: BCSMASS,DUSMASS25,OCSMASS,SO2SMASS,SO4SMASS,SSSMASS25,TOTEXTTAU\n",
      "    Contact: Pawan Gupta (pawan.gupta@nasa.gov), and Alqamah Sayeed (alqamah.sayeed@nasa.gov)\n",
      "    identifier_product_doi: 10.5067/OCKK5HCFW5N3\n",
      "    RangeBeginningDate: 2024-05-05\n",
      "    RangeBeginningTime: 00:00:00.000000\n",
      "    RangeEndingDate: 2024-05-05\n",
      "    RangeEndingTime: 23:59:59.000000\n",
      "    DODS_EXTRA.Unlimited_Dimension: time\n",
      "    history: 2023-04-21 04:24:38 GMT Hyrax-1.16.3 https://goldsmr4.gesdisc.eosdis.nasa.gov/opendap/MERRA2/M2T1NXAER.5.12.4/2022/12/MERRA2_400.tavg1_2d_aer_Nx.20221231.nc4.nc4?BCSMASS,DUSMASS25,OCSMASS,SO2SMASS,SO4SMASS,SSSMASS25,TOTEXTTAU\n",
      "    ProcessingLevel: 4\n",
      "    MapProjection: Geographic lat/lon. Datum: WGS-84\n",
      "    dimensions(sizes): time(24), lat(361), lon(576)\n",
      "    variables(dimensions): int32 time(time), float32 lat(lat), float32 lon(lon), float32 MERRA2_CNN_Surface_PM25(time, lat, lon), int32 QFLAG(lat, lon)\n",
      "    groups: \n"
     ]
    }
   ],
   "source": [
    "# Abrir arquivos do MERRA utilizando o netCDF4\n",
    "# pip install netCDF4 dask h5netcdf bottleneck\n",
    "#import xarray as xr # não funcionou no meu PC. Precisa instalar algumas dependências. \n",
    "import netCDF4 as nc\n",
    "\n",
    "# Abre o primeiro arquivo da lista\n",
    "dataset = nc.Dataset(pastaDados+'\\\\'+prefixed[0])\n",
    "print(dataset)"
   ]
  },
  {
   "cell_type": "code",
   "execution_count": 29,
   "id": "123f8332-b987-47d1-81c0-0c2b0f56643f",
   "metadata": {},
   "outputs": [
    {
     "name": "stdout",
     "output_type": "stream",
     "text": [
      "(24, 361, 576)\n"
     ]
    }
   ],
   "source": [
    "# Acessando o dado de PM25\n",
    "\n",
    "pm25 = dataset['MERRA2_CNN_Surface_PM25'][:]\n",
    "print(pm25.shape)"
   ]
  },
  {
   "cell_type": "code",
   "execution_count": null,
   "id": "9301c36c-5930-4f40-8112-5651db9727a8",
   "metadata": {},
   "outputs": [],
   "source": [
    "# Plotando o dado 1D \n",
    "import matplotlib.pyplot as plt\n",
    "\n"
   ]
  }
 ],
 "metadata": {
  "kernelspec": {
   "display_name": "Python 3 (ipykernel)",
   "language": "python",
   "name": "python3"
  },
  "language_info": {
   "codemirror_mode": {
    "name": "ipython",
    "version": 3
   },
   "file_extension": ".py",
   "mimetype": "text/x-python",
   "name": "python",
   "nbconvert_exporter": "python",
   "pygments_lexer": "ipython3",
   "version": "3.11.8"
  }
 },
 "nbformat": 4,
 "nbformat_minor": 5
}
