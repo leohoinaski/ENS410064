{
 "cells": [
  {
   "cell_type": "markdown",
   "id": "73114b18-97ec-4e9a-9fd9-21cd93cf85fd",
   "metadata": {},
   "source": [
    "# Aula 04\n",
    "\n",
    "Nesta aula, trabalharemos com dados de uma estação de monitoramento da qualidade do ar em SP. Faremos as seguintes etapas:\n",
    "\n",
    "* Formatação do arquivo em um dataframe\n",
    "* Detecção de falhas\n",
    "* Interpolação\n",
    "* Estatística bivariada\n",
    "* Regressão\n",
    "\n"
   ]
  },
  {
   "cell_type": "code",
   "execution_count": null,
   "id": "827cf31a-790f-479d-9edd-c708fe85b8bd",
   "metadata": {},
   "outputs": [],
   "source": [
    "# Importando bibliotecas\n",
    "import pandas as pd\n",
    "import numpy as np\n",
    "import matplotlib.pyplot as plt"
   ]
  },
  {
   "cell_type": "code",
   "execution_count": 41,
   "id": "1ed48486-2594-4d03-9007-b77d47eb6326",
   "metadata": {},
   "outputs": [
    {
     "data": {
      "text/html": [
       "<div>\n",
       "<style scoped>\n",
       "    .dataframe tbody tr th:only-of-type {\n",
       "        vertical-align: middle;\n",
       "    }\n",
       "\n",
       "    .dataframe tbody tr th {\n",
       "        vertical-align: top;\n",
       "    }\n",
       "\n",
       "    .dataframe thead th {\n",
       "        text-align: right;\n",
       "    }\n",
       "</style>\n",
       "<table border=\"1\" class=\"dataframe\">\n",
       "  <thead>\n",
       "    <tr style=\"text-align: right;\">\n",
       "      <th></th>\n",
       "      <th>Unnamed: 0</th>\n",
       "      <th>Unnamed: 1</th>\n",
       "      <th>MP2.5(Partículas Inaláveis Finas) - µg/m3</th>\n",
       "      <th>NO2(Dióxido de Nitrogênio) - µg/m3</th>\n",
       "      <th>O3(Ozônio) - µg/m3</th>\n",
       "    </tr>\n",
       "  </thead>\n",
       "  <tbody>\n",
       "    <tr>\n",
       "      <th>0</th>\n",
       "      <td>01/01/2023</td>\n",
       "      <td>01:00</td>\n",
       "      <td>23.0</td>\n",
       "      <td>22.0</td>\n",
       "      <td>33.0</td>\n",
       "    </tr>\n",
       "    <tr>\n",
       "      <th>1</th>\n",
       "      <td>01/01/2023</td>\n",
       "      <td>02:00</td>\n",
       "      <td>60.0</td>\n",
       "      <td>35.0</td>\n",
       "      <td>6.0</td>\n",
       "    </tr>\n",
       "    <tr>\n",
       "      <th>2</th>\n",
       "      <td>01/01/2023</td>\n",
       "      <td>03:00</td>\n",
       "      <td>95.0</td>\n",
       "      <td>27.0</td>\n",
       "      <td>1.0</td>\n",
       "    </tr>\n",
       "    <tr>\n",
       "      <th>3</th>\n",
       "      <td>01/01/2023</td>\n",
       "      <td>04:00</td>\n",
       "      <td>64.0</td>\n",
       "      <td>27.0</td>\n",
       "      <td>1.0</td>\n",
       "    </tr>\n",
       "    <tr>\n",
       "      <th>4</th>\n",
       "      <td>01/01/2023</td>\n",
       "      <td>05:00</td>\n",
       "      <td>52.0</td>\n",
       "      <td>20.0</td>\n",
       "      <td>1.0</td>\n",
       "    </tr>\n",
       "  </tbody>\n",
       "</table>\n",
       "</div>"
      ],
      "text/plain": [
       "   Unnamed: 0 Unnamed: 1  MP2.5(Partículas Inaláveis Finas) - µg/m3  \\\n",
       "0  01/01/2023      01:00                                       23.0   \n",
       "1  01/01/2023      02:00                                       60.0   \n",
       "2  01/01/2023      03:00                                       95.0   \n",
       "3  01/01/2023      04:00                                       64.0   \n",
       "4  01/01/2023      05:00                                       52.0   \n",
       "\n",
       "   NO2(Dióxido de Nitrogênio) - µg/m3  O3(Ozônio) - µg/m3  \n",
       "0                                22.0                33.0  \n",
       "1                                35.0                 6.0  \n",
       "2                                27.0                 1.0  \n",
       "3                                27.0                 1.0  \n",
       "4                                20.0                 1.0  "
      ]
     },
     "execution_count": 41,
     "metadata": {},
     "output_type": "execute_result"
    }
   ],
   "source": [
    "# Abrindo a planilha\n",
    "path = r\"C:\\Users\\Leonardo.Hoinaski\\Documents\\ENS410064\\2024\\dados\\1728675725931.csv\"\n",
    "data = pd.read_csv(path,header = 6, sep=';',encoding='latin-1')\n",
    "data.head()\n",
    "\n"
   ]
  },
  {
   "cell_type": "code",
   "execution_count": 46,
   "id": "43e5376d-6596-4617-b1ad-a90a8758a70f",
   "metadata": {},
   "outputs": [
    {
     "name": "stdout",
     "output_type": "stream",
     "text": [
      "['Unnamed: 0', 'Unnamed: 1', 'MP2.5(Partículas Inaláveis Finas) - µg/m3', 'NO2(Dióxido de Nitrogênio) - µg/m3', 'O3(Ozônio) - µg/m3']\n",
      "['date', 'hour', 'MP2.5(Partículas Inaláveis Finas) - µg/m3', 'NO2(Dióxido de Nitrogênio) - µg/m3', 'O3(Ozônio) - µg/m3']\n"
     ]
    },
    {
     "data": {
      "text/html": [
       "<div>\n",
       "<style scoped>\n",
       "    .dataframe tbody tr th:only-of-type {\n",
       "        vertical-align: middle;\n",
       "    }\n",
       "\n",
       "    .dataframe tbody tr th {\n",
       "        vertical-align: top;\n",
       "    }\n",
       "\n",
       "    .dataframe thead th {\n",
       "        text-align: right;\n",
       "    }\n",
       "</style>\n",
       "<table border=\"1\" class=\"dataframe\">\n",
       "  <thead>\n",
       "    <tr style=\"text-align: right;\">\n",
       "      <th></th>\n",
       "      <th>date</th>\n",
       "      <th>hour</th>\n",
       "      <th>MP2.5(Partículas Inaláveis Finas) - µg/m3</th>\n",
       "      <th>NO2(Dióxido de Nitrogênio) - µg/m3</th>\n",
       "      <th>O3(Ozônio) - µg/m3</th>\n",
       "    </tr>\n",
       "  </thead>\n",
       "  <tbody>\n",
       "    <tr>\n",
       "      <th>0</th>\n",
       "      <td>01/01/2023</td>\n",
       "      <td>01:00</td>\n",
       "      <td>23.0</td>\n",
       "      <td>22.0</td>\n",
       "      <td>33.0</td>\n",
       "    </tr>\n",
       "    <tr>\n",
       "      <th>1</th>\n",
       "      <td>01/01/2023</td>\n",
       "      <td>02:00</td>\n",
       "      <td>60.0</td>\n",
       "      <td>35.0</td>\n",
       "      <td>6.0</td>\n",
       "    </tr>\n",
       "    <tr>\n",
       "      <th>2</th>\n",
       "      <td>01/01/2023</td>\n",
       "      <td>03:00</td>\n",
       "      <td>95.0</td>\n",
       "      <td>27.0</td>\n",
       "      <td>1.0</td>\n",
       "    </tr>\n",
       "    <tr>\n",
       "      <th>3</th>\n",
       "      <td>01/01/2023</td>\n",
       "      <td>04:00</td>\n",
       "      <td>64.0</td>\n",
       "      <td>27.0</td>\n",
       "      <td>1.0</td>\n",
       "    </tr>\n",
       "    <tr>\n",
       "      <th>4</th>\n",
       "      <td>01/01/2023</td>\n",
       "      <td>05:00</td>\n",
       "      <td>52.0</td>\n",
       "      <td>20.0</td>\n",
       "      <td>1.0</td>\n",
       "    </tr>\n",
       "  </tbody>\n",
       "</table>\n",
       "</div>"
      ],
      "text/plain": [
       "         date   hour  MP2.5(Partículas Inaláveis Finas) - µg/m3  \\\n",
       "0  01/01/2023  01:00                                       23.0   \n",
       "1  01/01/2023  02:00                                       60.0   \n",
       "2  01/01/2023  03:00                                       95.0   \n",
       "3  01/01/2023  04:00                                       64.0   \n",
       "4  01/01/2023  05:00                                       52.0   \n",
       "\n",
       "   NO2(Dióxido de Nitrogênio) - µg/m3  O3(Ozônio) - µg/m3  \n",
       "0                                22.0                33.0  \n",
       "1                                35.0                 6.0  \n",
       "2                                27.0                 1.0  \n",
       "3                                27.0                 1.0  \n",
       "4                                20.0                 1.0  "
      ]
     },
     "execution_count": 46,
     "metadata": {},
     "output_type": "execute_result"
    }
   ],
   "source": [
    "# Fazendo o merge das headers \n",
    "print(data.columns.to_list())\n",
    "header = data.columns.to_list()\n",
    "header[0:2] = ['date','hour']\n",
    "print(header)\n",
    "\n",
    "# Renomeando as colunas\n",
    "data.columns = header\n",
    "data.head()\n",
    "\n"
   ]
  },
  {
   "cell_type": "code",
   "execution_count": 47,
   "id": "16e54b0a-99dc-4eb3-a64c-832125c05f60",
   "metadata": {},
   "outputs": [
    {
     "data": {
      "text/plain": [
       "0       23.0\n",
       "1       60.0\n",
       "2       95.0\n",
       "3       64.0\n",
       "4       52.0\n",
       "        ... \n",
       "8755    11.0\n",
       "8756     6.0\n",
       "8757     6.0\n",
       "8758     2.0\n",
       "8759     0.0\n",
       "Name: MP2.5(Partículas Inaláveis Finas) - µg/m3, Length: 8760, dtype: float64"
      ]
     },
     "execution_count": 47,
     "metadata": {},
     "output_type": "execute_result"
    }
   ],
   "source": [
    "# Acessando os valores\n",
    "\n",
    "data['MP2.5(Partículas Inaláveis Finas) - µg/m3']"
   ]
  },
  {
   "cell_type": "code",
   "execution_count": 48,
   "id": "bec3eeb0-54f0-4406-a5e2-c2adff74e53e",
   "metadata": {},
   "outputs": [
    {
     "data": {
      "text/plain": [
       "0       23.0\n",
       "1       60.0\n",
       "2       95.0\n",
       "3       64.0\n",
       "4       52.0\n",
       "        ... \n",
       "8755    11.0\n",
       "8756     6.0\n",
       "8757     6.0\n",
       "8758     2.0\n",
       "8759     0.0\n",
       "Name: MP2.5(Partículas Inaláveis Finas) - µg/m3, Length: 8760, dtype: float64"
      ]
     },
     "execution_count": 48,
     "metadata": {},
     "output_type": "execute_result"
    }
   ],
   "source": [
    "# Usando iloc\n",
    "\n",
    "data.iloc[:,2]"
   ]
  },
  {
   "cell_type": "code",
   "execution_count": 52,
   "id": "251ffa19-62fb-4c75-8a88-9707ebf7a4cd",
   "metadata": {},
   "outputs": [
    {
     "data": {
      "text/html": [
       "<div>\n",
       "<style scoped>\n",
       "    .dataframe tbody tr th:only-of-type {\n",
       "        vertical-align: middle;\n",
       "    }\n",
       "\n",
       "    .dataframe tbody tr th {\n",
       "        vertical-align: top;\n",
       "    }\n",
       "\n",
       "    .dataframe thead th {\n",
       "        text-align: right;\n",
       "    }\n",
       "</style>\n",
       "<table border=\"1\" class=\"dataframe\">\n",
       "  <thead>\n",
       "    <tr style=\"text-align: right;\">\n",
       "      <th></th>\n",
       "      <th>date</th>\n",
       "      <th>hour</th>\n",
       "      <th>MP2.5(Partículas Inaláveis Finas) - µg/m3</th>\n",
       "      <th>NO2(Dióxido de Nitrogênio) - µg/m3</th>\n",
       "      <th>O3(Ozônio) - µg/m3</th>\n",
       "      <th>datetimes</th>\n",
       "    </tr>\n",
       "  </thead>\n",
       "  <tbody>\n",
       "    <tr>\n",
       "      <th>0</th>\n",
       "      <td>01/01/2023</td>\n",
       "      <td>01:00</td>\n",
       "      <td>23.0</td>\n",
       "      <td>22.0</td>\n",
       "      <td>33.0</td>\n",
       "      <td>2023-01-01</td>\n",
       "    </tr>\n",
       "    <tr>\n",
       "      <th>1</th>\n",
       "      <td>01/01/2023</td>\n",
       "      <td>02:00</td>\n",
       "      <td>60.0</td>\n",
       "      <td>35.0</td>\n",
       "      <td>6.0</td>\n",
       "      <td>2023-01-01</td>\n",
       "    </tr>\n",
       "    <tr>\n",
       "      <th>2</th>\n",
       "      <td>01/01/2023</td>\n",
       "      <td>03:00</td>\n",
       "      <td>95.0</td>\n",
       "      <td>27.0</td>\n",
       "      <td>1.0</td>\n",
       "      <td>2023-01-01</td>\n",
       "    </tr>\n",
       "    <tr>\n",
       "      <th>3</th>\n",
       "      <td>01/01/2023</td>\n",
       "      <td>04:00</td>\n",
       "      <td>64.0</td>\n",
       "      <td>27.0</td>\n",
       "      <td>1.0</td>\n",
       "      <td>2023-01-01</td>\n",
       "    </tr>\n",
       "    <tr>\n",
       "      <th>4</th>\n",
       "      <td>01/01/2023</td>\n",
       "      <td>05:00</td>\n",
       "      <td>52.0</td>\n",
       "      <td>20.0</td>\n",
       "      <td>1.0</td>\n",
       "      <td>2023-01-01</td>\n",
       "    </tr>\n",
       "  </tbody>\n",
       "</table>\n",
       "</div>"
      ],
      "text/plain": [
       "         date   hour  MP2.5(Partículas Inaláveis Finas) - µg/m3  \\\n",
       "0  01/01/2023  01:00                                       23.0   \n",
       "1  01/01/2023  02:00                                       60.0   \n",
       "2  01/01/2023  03:00                                       95.0   \n",
       "3  01/01/2023  04:00                                       64.0   \n",
       "4  01/01/2023  05:00                                       52.0   \n",
       "\n",
       "   NO2(Dióxido de Nitrogênio) - µg/m3  O3(Ozônio) - µg/m3  datetimes  \n",
       "0                                22.0                33.0 2023-01-01  \n",
       "1                                35.0                 6.0 2023-01-01  \n",
       "2                                27.0                 1.0 2023-01-01  \n",
       "3                                27.0                 1.0 2023-01-01  \n",
       "4                                20.0                 1.0 2023-01-01  "
      ]
     },
     "execution_count": 52,
     "metadata": {},
     "output_type": "execute_result"
    }
   ],
   "source": [
    "# Trabalhando com as datas\n",
    "\n",
    "data['datetimes'] =  pd.to_datetime(data['date'], format=\"%d/%m/%Y\")\n",
    "data.head()"
   ]
  },
  {
   "cell_type": "code",
   "execution_count": 54,
   "id": "97905e04-d3dc-4293-bebe-445ca501d5db",
   "metadata": {},
   "outputs": [
    {
     "name": "stdout",
     "output_type": "stream",
     "text": [
      "(8760, 6)\n",
      "8760\n"
     ]
    }
   ],
   "source": [
    "# Checando se o arquivo possui todas as horas medidas\n",
    "print(data.shape)\n",
    "print(24*365)"
   ]
  },
  {
   "cell_type": "code",
   "execution_count": 57,
   "id": "b97f21f2-6fce-47ee-a469-ce5b23c2c7bf",
   "metadata": {},
   "outputs": [
    {
     "name": "stdout",
     "output_type": "stream",
     "text": [
      "96\n"
     ]
    }
   ],
   "source": [
    "# Checando se existem dados faltantes\n",
    "print(np.sum(data.iloc[:,2].isna()))\n"
   ]
  },
  {
   "cell_type": "code",
   "execution_count": null,
   "id": "0ab8ac42-520a-4c3d-8eac-5d814a88b3b9",
   "metadata": {},
   "outputs": [],
   "source": [
    "# Plotando a serie"
   ]
  }
 ],
 "metadata": {
  "kernelspec": {
   "display_name": "Python 3 (ipykernel)",
   "language": "python",
   "name": "python3"
  },
  "language_info": {
   "codemirror_mode": {
    "name": "ipython",
    "version": 3
   },
   "file_extension": ".py",
   "mimetype": "text/x-python",
   "name": "python",
   "nbconvert_exporter": "python",
   "pygments_lexer": "ipython3",
   "version": "3.11.8"
  }
 },
 "nbformat": 4,
 "nbformat_minor": 5
}
