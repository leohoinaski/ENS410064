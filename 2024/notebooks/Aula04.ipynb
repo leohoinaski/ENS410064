{
 "cells": [
  {
   "cell_type": "markdown",
   "id": "73114b18-97ec-4e9a-9fd9-21cd93cf85fd",
   "metadata": {},
   "source": [
    "# Aula 04\n",
    "\n",
    "Nesta aula, trabalharemos com dados de uma estação de monitoramento da qualidade do ar em SP. Faremos as seguintes etapas:\n",
    "\n",
    "* Formatação do arquivo em um dataframe\n",
    "* Detecção de falhas\n",
    "* Interpolação\n",
    "* Estatística bivariada\n",
    "* Regressão\n",
    "\n"
   ]
  },
  {
   "cell_type": "code",
   "execution_count": 101,
   "id": "827cf31a-790f-479d-9edd-c708fe85b8bd",
   "metadata": {},
   "outputs": [],
   "source": [
    "# Importando bibliotecas\n",
    "import pandas as pd\n",
    "import numpy as np\n",
    "import matplotlib.pyplot as plt"
   ]
  },
  {
   "cell_type": "code",
   "execution_count": 41,
   "id": "1ed48486-2594-4d03-9007-b77d47eb6326",
   "metadata": {},
   "outputs": [
    {
     "data": {
      "text/html": [
       "<div>\n",
       "<style scoped>\n",
       "    .dataframe tbody tr th:only-of-type {\n",
       "        vertical-align: middle;\n",
       "    }\n",
       "\n",
       "    .dataframe tbody tr th {\n",
       "        vertical-align: top;\n",
       "    }\n",
       "\n",
       "    .dataframe thead th {\n",
       "        text-align: right;\n",
       "    }\n",
       "</style>\n",
       "<table border=\"1\" class=\"dataframe\">\n",
       "  <thead>\n",
       "    <tr style=\"text-align: right;\">\n",
       "      <th></th>\n",
       "      <th>Unnamed: 0</th>\n",
       "      <th>Unnamed: 1</th>\n",
       "      <th>MP2.5(Partículas Inaláveis Finas) - µg/m3</th>\n",
       "      <th>NO2(Dióxido de Nitrogênio) - µg/m3</th>\n",
       "      <th>O3(Ozônio) - µg/m3</th>\n",
       "    </tr>\n",
       "  </thead>\n",
       "  <tbody>\n",
       "    <tr>\n",
       "      <th>0</th>\n",
       "      <td>01/01/2023</td>\n",
       "      <td>01:00</td>\n",
       "      <td>23.0</td>\n",
       "      <td>22.0</td>\n",
       "      <td>33.0</td>\n",
       "    </tr>\n",
       "    <tr>\n",
       "      <th>1</th>\n",
       "      <td>01/01/2023</td>\n",
       "      <td>02:00</td>\n",
       "      <td>60.0</td>\n",
       "      <td>35.0</td>\n",
       "      <td>6.0</td>\n",
       "    </tr>\n",
       "    <tr>\n",
       "      <th>2</th>\n",
       "      <td>01/01/2023</td>\n",
       "      <td>03:00</td>\n",
       "      <td>95.0</td>\n",
       "      <td>27.0</td>\n",
       "      <td>1.0</td>\n",
       "    </tr>\n",
       "    <tr>\n",
       "      <th>3</th>\n",
       "      <td>01/01/2023</td>\n",
       "      <td>04:00</td>\n",
       "      <td>64.0</td>\n",
       "      <td>27.0</td>\n",
       "      <td>1.0</td>\n",
       "    </tr>\n",
       "    <tr>\n",
       "      <th>4</th>\n",
       "      <td>01/01/2023</td>\n",
       "      <td>05:00</td>\n",
       "      <td>52.0</td>\n",
       "      <td>20.0</td>\n",
       "      <td>1.0</td>\n",
       "    </tr>\n",
       "  </tbody>\n",
       "</table>\n",
       "</div>"
      ],
      "text/plain": [
       "   Unnamed: 0 Unnamed: 1  MP2.5(Partículas Inaláveis Finas) - µg/m3  \\\n",
       "0  01/01/2023      01:00                                       23.0   \n",
       "1  01/01/2023      02:00                                       60.0   \n",
       "2  01/01/2023      03:00                                       95.0   \n",
       "3  01/01/2023      04:00                                       64.0   \n",
       "4  01/01/2023      05:00                                       52.0   \n",
       "\n",
       "   NO2(Dióxido de Nitrogênio) - µg/m3  O3(Ozônio) - µg/m3  \n",
       "0                                22.0                33.0  \n",
       "1                                35.0                 6.0  \n",
       "2                                27.0                 1.0  \n",
       "3                                27.0                 1.0  \n",
       "4                                20.0                 1.0  "
      ]
     },
     "execution_count": 41,
     "metadata": {},
     "output_type": "execute_result"
    }
   ],
   "source": [
    "# Abrindo a planilha\n",
    "path = r\"C:\\Users\\Leonardo.Hoinaski\\Documents\\ENS410064\\2024\\dados\\1728675725931.csv\"\n",
    "data = pd.read_csv(path,header = 6, sep=';',encoding='latin-1')\n",
    "data.head()\n",
    "\n"
   ]
  },
  {
   "cell_type": "code",
   "execution_count": 46,
   "id": "43e5376d-6596-4617-b1ad-a90a8758a70f",
   "metadata": {},
   "outputs": [
    {
     "name": "stdout",
     "output_type": "stream",
     "text": [
      "['Unnamed: 0', 'Unnamed: 1', 'MP2.5(Partículas Inaláveis Finas) - µg/m3', 'NO2(Dióxido de Nitrogênio) - µg/m3', 'O3(Ozônio) - µg/m3']\n",
      "['date', 'hour', 'MP2.5(Partículas Inaláveis Finas) - µg/m3', 'NO2(Dióxido de Nitrogênio) - µg/m3', 'O3(Ozônio) - µg/m3']\n"
     ]
    },
    {
     "data": {
      "text/html": [
       "<div>\n",
       "<style scoped>\n",
       "    .dataframe tbody tr th:only-of-type {\n",
       "        vertical-align: middle;\n",
       "    }\n",
       "\n",
       "    .dataframe tbody tr th {\n",
       "        vertical-align: top;\n",
       "    }\n",
       "\n",
       "    .dataframe thead th {\n",
       "        text-align: right;\n",
       "    }\n",
       "</style>\n",
       "<table border=\"1\" class=\"dataframe\">\n",
       "  <thead>\n",
       "    <tr style=\"text-align: right;\">\n",
       "      <th></th>\n",
       "      <th>date</th>\n",
       "      <th>hour</th>\n",
       "      <th>MP2.5(Partículas Inaláveis Finas) - µg/m3</th>\n",
       "      <th>NO2(Dióxido de Nitrogênio) - µg/m3</th>\n",
       "      <th>O3(Ozônio) - µg/m3</th>\n",
       "    </tr>\n",
       "  </thead>\n",
       "  <tbody>\n",
       "    <tr>\n",
       "      <th>0</th>\n",
       "      <td>01/01/2023</td>\n",
       "      <td>01:00</td>\n",
       "      <td>23.0</td>\n",
       "      <td>22.0</td>\n",
       "      <td>33.0</td>\n",
       "    </tr>\n",
       "    <tr>\n",
       "      <th>1</th>\n",
       "      <td>01/01/2023</td>\n",
       "      <td>02:00</td>\n",
       "      <td>60.0</td>\n",
       "      <td>35.0</td>\n",
       "      <td>6.0</td>\n",
       "    </tr>\n",
       "    <tr>\n",
       "      <th>2</th>\n",
       "      <td>01/01/2023</td>\n",
       "      <td>03:00</td>\n",
       "      <td>95.0</td>\n",
       "      <td>27.0</td>\n",
       "      <td>1.0</td>\n",
       "    </tr>\n",
       "    <tr>\n",
       "      <th>3</th>\n",
       "      <td>01/01/2023</td>\n",
       "      <td>04:00</td>\n",
       "      <td>64.0</td>\n",
       "      <td>27.0</td>\n",
       "      <td>1.0</td>\n",
       "    </tr>\n",
       "    <tr>\n",
       "      <th>4</th>\n",
       "      <td>01/01/2023</td>\n",
       "      <td>05:00</td>\n",
       "      <td>52.0</td>\n",
       "      <td>20.0</td>\n",
       "      <td>1.0</td>\n",
       "    </tr>\n",
       "  </tbody>\n",
       "</table>\n",
       "</div>"
      ],
      "text/plain": [
       "         date   hour  MP2.5(Partículas Inaláveis Finas) - µg/m3  \\\n",
       "0  01/01/2023  01:00                                       23.0   \n",
       "1  01/01/2023  02:00                                       60.0   \n",
       "2  01/01/2023  03:00                                       95.0   \n",
       "3  01/01/2023  04:00                                       64.0   \n",
       "4  01/01/2023  05:00                                       52.0   \n",
       "\n",
       "   NO2(Dióxido de Nitrogênio) - µg/m3  O3(Ozônio) - µg/m3  \n",
       "0                                22.0                33.0  \n",
       "1                                35.0                 6.0  \n",
       "2                                27.0                 1.0  \n",
       "3                                27.0                 1.0  \n",
       "4                                20.0                 1.0  "
      ]
     },
     "execution_count": 46,
     "metadata": {},
     "output_type": "execute_result"
    }
   ],
   "source": [
    "# Fazendo o merge das headers \n",
    "print(data.columns.to_list())\n",
    "header = data.columns.to_list()\n",
    "header[0:2] = ['date','hour']\n",
    "print(header)\n",
    "\n",
    "# Renomeando as colunas\n",
    "data.columns = header\n",
    "data.head()\n",
    "\n"
   ]
  },
  {
   "cell_type": "code",
   "execution_count": 47,
   "id": "16e54b0a-99dc-4eb3-a64c-832125c05f60",
   "metadata": {},
   "outputs": [
    {
     "data": {
      "text/plain": [
       "0       23.0\n",
       "1       60.0\n",
       "2       95.0\n",
       "3       64.0\n",
       "4       52.0\n",
       "        ... \n",
       "8755    11.0\n",
       "8756     6.0\n",
       "8757     6.0\n",
       "8758     2.0\n",
       "8759     0.0\n",
       "Name: MP2.5(Partículas Inaláveis Finas) - µg/m3, Length: 8760, dtype: float64"
      ]
     },
     "execution_count": 47,
     "metadata": {},
     "output_type": "execute_result"
    }
   ],
   "source": [
    "# Acessando os valores\n",
    "\n",
    "data['MP2.5(Partículas Inaláveis Finas) - µg/m3']"
   ]
  },
  {
   "cell_type": "code",
   "execution_count": 48,
   "id": "bec3eeb0-54f0-4406-a5e2-c2adff74e53e",
   "metadata": {},
   "outputs": [
    {
     "data": {
      "text/plain": [
       "0       23.0\n",
       "1       60.0\n",
       "2       95.0\n",
       "3       64.0\n",
       "4       52.0\n",
       "        ... \n",
       "8755    11.0\n",
       "8756     6.0\n",
       "8757     6.0\n",
       "8758     2.0\n",
       "8759     0.0\n",
       "Name: MP2.5(Partículas Inaláveis Finas) - µg/m3, Length: 8760, dtype: float64"
      ]
     },
     "execution_count": 48,
     "metadata": {},
     "output_type": "execute_result"
    }
   ],
   "source": [
    "# Usando iloc\n",
    "\n",
    "data.iloc[:,2]"
   ]
  },
  {
   "cell_type": "code",
   "execution_count": 52,
   "id": "251ffa19-62fb-4c75-8a88-9707ebf7a4cd",
   "metadata": {},
   "outputs": [
    {
     "data": {
      "text/html": [
       "<div>\n",
       "<style scoped>\n",
       "    .dataframe tbody tr th:only-of-type {\n",
       "        vertical-align: middle;\n",
       "    }\n",
       "\n",
       "    .dataframe tbody tr th {\n",
       "        vertical-align: top;\n",
       "    }\n",
       "\n",
       "    .dataframe thead th {\n",
       "        text-align: right;\n",
       "    }\n",
       "</style>\n",
       "<table border=\"1\" class=\"dataframe\">\n",
       "  <thead>\n",
       "    <tr style=\"text-align: right;\">\n",
       "      <th></th>\n",
       "      <th>date</th>\n",
       "      <th>hour</th>\n",
       "      <th>MP2.5(Partículas Inaláveis Finas) - µg/m3</th>\n",
       "      <th>NO2(Dióxido de Nitrogênio) - µg/m3</th>\n",
       "      <th>O3(Ozônio) - µg/m3</th>\n",
       "      <th>datetimes</th>\n",
       "    </tr>\n",
       "  </thead>\n",
       "  <tbody>\n",
       "    <tr>\n",
       "      <th>0</th>\n",
       "      <td>01/01/2023</td>\n",
       "      <td>01:00</td>\n",
       "      <td>23.0</td>\n",
       "      <td>22.0</td>\n",
       "      <td>33.0</td>\n",
       "      <td>2023-01-01</td>\n",
       "    </tr>\n",
       "    <tr>\n",
       "      <th>1</th>\n",
       "      <td>01/01/2023</td>\n",
       "      <td>02:00</td>\n",
       "      <td>60.0</td>\n",
       "      <td>35.0</td>\n",
       "      <td>6.0</td>\n",
       "      <td>2023-01-01</td>\n",
       "    </tr>\n",
       "    <tr>\n",
       "      <th>2</th>\n",
       "      <td>01/01/2023</td>\n",
       "      <td>03:00</td>\n",
       "      <td>95.0</td>\n",
       "      <td>27.0</td>\n",
       "      <td>1.0</td>\n",
       "      <td>2023-01-01</td>\n",
       "    </tr>\n",
       "    <tr>\n",
       "      <th>3</th>\n",
       "      <td>01/01/2023</td>\n",
       "      <td>04:00</td>\n",
       "      <td>64.0</td>\n",
       "      <td>27.0</td>\n",
       "      <td>1.0</td>\n",
       "      <td>2023-01-01</td>\n",
       "    </tr>\n",
       "    <tr>\n",
       "      <th>4</th>\n",
       "      <td>01/01/2023</td>\n",
       "      <td>05:00</td>\n",
       "      <td>52.0</td>\n",
       "      <td>20.0</td>\n",
       "      <td>1.0</td>\n",
       "      <td>2023-01-01</td>\n",
       "    </tr>\n",
       "  </tbody>\n",
       "</table>\n",
       "</div>"
      ],
      "text/plain": [
       "         date   hour  MP2.5(Partículas Inaláveis Finas) - µg/m3  \\\n",
       "0  01/01/2023  01:00                                       23.0   \n",
       "1  01/01/2023  02:00                                       60.0   \n",
       "2  01/01/2023  03:00                                       95.0   \n",
       "3  01/01/2023  04:00                                       64.0   \n",
       "4  01/01/2023  05:00                                       52.0   \n",
       "\n",
       "   NO2(Dióxido de Nitrogênio) - µg/m3  O3(Ozônio) - µg/m3  datetimes  \n",
       "0                                22.0                33.0 2023-01-01  \n",
       "1                                35.0                 6.0 2023-01-01  \n",
       "2                                27.0                 1.0 2023-01-01  \n",
       "3                                27.0                 1.0 2023-01-01  \n",
       "4                                20.0                 1.0 2023-01-01  "
      ]
     },
     "execution_count": 52,
     "metadata": {},
     "output_type": "execute_result"
    }
   ],
   "source": [
    "# Trabalhando com as datas\n",
    "\n",
    "data['datetimes'] =  pd.to_datetime(data['date'], format=\"%d/%m/%Y\")\n",
    "data.head()"
   ]
  },
  {
   "cell_type": "code",
   "execution_count": 54,
   "id": "97905e04-d3dc-4293-bebe-445ca501d5db",
   "metadata": {},
   "outputs": [
    {
     "name": "stdout",
     "output_type": "stream",
     "text": [
      "(8760, 6)\n",
      "8760\n"
     ]
    }
   ],
   "source": [
    "# Checando se o arquivo possui todas as horas medidas\n",
    "print(data.shape)\n",
    "print(24*365)"
   ]
  },
  {
   "cell_type": "code",
   "execution_count": 59,
   "id": "b97f21f2-6fce-47ee-a469-ce5b23c2c7bf",
   "metadata": {},
   "outputs": [
    {
     "name": "stdout",
     "output_type": "stream",
     "text": [
      "tenho 96 valores faltantes\n"
     ]
    }
   ],
   "source": [
    "# Checando se existem dados faltantes\n",
    "print('tenho ' +str(np.sum(data.iloc[:,2].isna()))+' valores faltantes')\n"
   ]
  },
  {
   "cell_type": "code",
   "execution_count": 83,
   "id": "0ab8ac42-520a-4c3d-8eac-5d814a88b3b9",
   "metadata": {},
   "outputs": [
    {
     "data": {
      "text/plain": [
       "<matplotlib.collections.PathCollection at 0x12e53458450>"
      ]
     },
     "execution_count": 83,
     "metadata": {},
     "output_type": "execute_result"
    },
    {
     "data": {
      "image/png": "[encoded data removed]",
      "text/plain": [
       "<Figure size 640x480 with 1 Axes>"
      ]
     },
     "metadata": {},
     "output_type": "display_data"
    }
   ],
   "source": [
    "# Plotando a serie\n",
    "fig, ax = plt.subplots()\n",
    "ax.plot(data.datetimes, data.iloc[:,2], alpha=.5)\n",
    "\n",
    "# Plotando as datas faltantes no gráfico\n",
    "ax.scatter(data.datetimes[data.iloc[:,2].isna()],np.zeros(np.sum(data.iloc[:,2].isna())),color='red')"
   ]
  },
  {
   "cell_type": "code",
   "execution_count": 86,
   "id": "54500caa-be1c-4e62-a134-de823c42a839",
   "metadata": {},
   "outputs": [
    {
     "name": "stdout",
     "output_type": "stream",
     "text": [
      "tenho 0 valores faltantes\n"
     ]
    }
   ],
   "source": [
    "# Interpolando os dados\n",
    "\n",
    "dadoInterpolado = data.iloc[:,2].interpolate()\n",
    "\n",
    "# Checando se existem dados faltantes\n",
    "print('tenho ' +str(np.sum(dadoInterpolado.isna()))+' valores faltantes')\n"
   ]
  },
  {
   "cell_type": "code",
   "execution_count": 90,
   "id": "7c9671a4-bb4c-446a-a53a-4bd0a70265f2",
   "metadata": {},
   "outputs": [
    {
     "data": {
      "text/plain": [
       "[<matplotlib.lines.Line2D at 0x12e533ff310>]"
      ]
     },
     "execution_count": 90,
     "metadata": {},
     "output_type": "execute_result"
    },
    {
     "data": {
      "image/png": "[encoded data removed]",
      "text/plain": [
       "<Figure size 640x480 with 1 Axes>"
      ]
     },
     "metadata": {},
     "output_type": "display_data"
    }
   ],
   "source": [
    "# Plotando todos os dados\n",
    "\n",
    "fig,ax = plt.subplots()\n",
    "ax.plot(data.iloc[:,2],alpha=0.2)\n",
    "ax.plot(data.iloc[:,3],alpha=0.3)"
   ]
  },
  {
   "cell_type": "code",
   "execution_count": 94,
   "id": "2e44e4b5-dc34-4ddf-911e-4e7ecd326eb3",
   "metadata": {},
   "outputs": [
    {
     "name": "stdout",
     "output_type": "stream",
     "text": [
      "R-squared: 0.232988\n",
      "LinregressResult(slope=np.float64(1.0358822520351318), intercept=np.float64(18.949997504902843), rvalue=np.float64(0.4826885335395513), pvalue=np.float64(0.0), stderr=np.float64(0.020083618201610563), intercept_stderr=np.float64(0.3220103318918294))\n"
     ]
    }
   ],
   "source": [
    "# Regressão linear\n",
    "\n",
    "from scipy import stats\n",
    "\n",
    "res = stats.linregress(data.iloc[:,2].interpolate(), data.iloc[:,3].interpolate())\n",
    "\n",
    "print(f\"R-squared: {res.rvalue**2:.6f}\")\n",
    "\n",
    "print(res)"
   ]
  },
  {
   "cell_type": "code",
   "execution_count": 100,
   "id": "a5305f2f-2573-44cf-80c3-f4944d8fd143",
   "metadata": {},
   "outputs": [
    {
     "name": "stderr",
     "output_type": "stream",
     "text": [
      "C:\\Users\\Leonardo.Hoinaski\\Documents\\ENS410064\\pyEnv\\Lib\\site-packages\\sklearn\\neural_network\\_multilayer_perceptron.py:1631: DataConversionWarning: A column-vector y was passed when a 1d array was expected. Please change the shape of y to (n_samples, ), for example using ravel().\n",
      "  y = column_or_1d(y, warn=True)\n"
     ]
    },
    {
     "data": {
      "text/plain": [
       "0.23437139333907053"
      ]
     },
     "execution_count": 100,
     "metadata": {},
     "output_type": "execute_result"
    }
   ],
   "source": [
    "# Regressão usando rede neural\n",
    "from sklearn.neural_network import MLPRegressor\n",
    "from sklearn.datasets import make_regression\n",
    "from sklearn.model_selection import train_test_split\n",
    "\n",
    "# X, y = make_regression(n_samples=200, random_state=1)\n",
    "X_train, X_test, y_train, y_test = train_test_split(np.array(data.iloc[:,2].interpolate()).reshape(-1, 1)\n",
    "                                                    , np.array(data.iloc[:,3].interpolate()).reshape(-1, 1),\n",
    "                                                    random_state=1)\n",
    "regr = MLPRegressor(random_state=1, max_iter=500).fit(X_train, y_train)\n",
    "regr.predict(X_test[:2])\n",
    "regr.score(X_test, y_test)"
   ]
  },
  {
   "cell_type": "raw",
   "id": "b1b8955c-72be-4ad0-b721-eb87781a54c0",
   "metadata": {},
   "source": []
  },
  {
   "cell_type": "code",
   "execution_count": 122,
   "id": "d6cca53e-00eb-4152-b5ea-346136dec22e",
   "metadata": {},
   "outputs": [
    {
     "name": "stdout",
     "output_type": "stream",
     "text": [
      "(6570, 2)\n"
     ]
    },
    {
     "data": {
      "text/plain": [
       "0.37503591391562385"
      ]
     },
     "execution_count": 122,
     "metadata": {},
     "output_type": "execute_result"
    }
   ],
   "source": [
    "# Usando machine learning - árvore de decisão\n",
    "from sklearn import tree          \n",
    "X_train, X_test, y_train, y_test = train_test_split(np.hstack([np.array(data.iloc[:,2].interpolate()).reshape(-1, 1),\n",
    "                                                    np.array(data.iloc[:,3].interpolate()).reshape(-1, 1)]),\n",
    "                                                     np.array(data.iloc[:,4].interpolate()).reshape(-1, 1),\n",
    "                                                    random_state=1)\n",
    "print(X_train.shape)\n",
    "clf = tree.DecisionTreeRegressor()\n",
    "clf = clf.fit(X_train, y_train)\n",
    "clf.score(X_test, y_test)"
   ]
  },
  {
   "cell_type": "code",
   "execution_count": 126,
   "id": "4a7332e7-346d-413a-bba1-30256e1ec5f4",
   "metadata": {},
   "outputs": [
    {
     "name": "stderr",
     "output_type": "stream",
     "text": [
      "C:\\Users\\Leonardo.Hoinaski\\Documents\\ENS410064\\pyEnv\\Lib\\site-packages\\sklearn\\utils\\validation.py:1339: DataConversionWarning: A column-vector y was passed when a 1d array was expected. Please change the shape of y to (n_samples, ), for example using ravel().\n",
      "  y = column_or_1d(y, warn=True)\n"
     ]
    },
    {
     "data": {
      "text/plain": [
       "<matplotlib.collections.PathCollection at 0x12e6bddae10>"
      ]
     },
     "execution_count": 126,
     "metadata": {},
     "output_type": "execute_result"
    },
    {
     "data": {
      "image/png": "[encoded data removed]",
      "text/plain": [
       "<Figure size 640x480 with 1 Axes>"
      ]
     },
     "metadata": {},
     "output_type": "display_data"
    }
   ],
   "source": [
    "# Usando CVM\n",
    "from sklearn import svm\n",
    "regr = svm.SVR()\n",
    "\n",
    "regr.fit(X_train, y_train)\n",
    "regr.score(X_test, y_test)\n",
    "\n",
    "fig, ax = plt.subplots()\n",
    "ax.scatter(regr.predict(np.hstack([np.array(data.iloc[:,2].interpolate()).reshape(-1, 1),\n",
    "                                   np.array(data.iloc[:,3].interpolate()).reshape(-1, 1)])), \n",
    "          np.array(data.iloc[:,4].interpolate()).reshape(-1, 1\n",
    "\n",
    "ax.set"
   ]
  },
  {
   "cell_type": "code",
   "execution_count": null,
   "id": "0a1b70f8-8fa9-4863-bc2c-df26cd92bab8",
   "metadata": {},
   "outputs": [],
   "source": []
  }
 ],
 "metadata": {
  "kernelspec": {
   "display_name": "Python 3 (ipykernel)",
   "language": "python",
   "name": "python3"
  },
  "language_info": {
   "codemirror_mode": {
    "name": "ipython",
    "version": 3
   },
   "file_extension": ".py",
   "mimetype": "text/x-python",
   "name": "python",
   "nbconvert_exporter": "python",
   "pygments_lexer": "ipython3",
   "version": "3.11.8"
  }
 },
 "nbformat": 4,
 "nbformat_minor": 5
}
