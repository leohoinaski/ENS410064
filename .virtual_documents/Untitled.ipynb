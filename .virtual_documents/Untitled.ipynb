


import pandas as pd

path = r'C:\Users\Leonardo.Hoinaski\Documents\ENS410064\dados\brutos\metar.csv'
data = pd.read_csv(path)

data


# Médias diárias
dailyAve = data.groupby(['year','month','day']).mean()
dailyAve = dailyAve.reset_index()
df = pd.DataFrame({'year': dailyAve['year'],
                   'month': dailyAve['month'],
                   'day': dailyAve['day']})
df = pd.to_datetime(df)
dailyAve['datetime'] = df
dailyAve = dailyAve.set_index(['datetime'])

# plot dailyAve umidade
import matplotlib.pyplot as plt
fig,ax = plt.subplots()
ax.plot(dailyAve.index,dailyAve['relh'])


# SARIMAX
import pmdarima as pm
from pmdarima.model_selection import train_test_split
import numpy as np
y = dailyAve['relh']
train, test = train_test_split(y, train_size=150)

# Fit a simple auto_arima model
arima = pm.auto_arima(train, error_action='ignore', trace=True,
                      suppress_warnings=True, maxiter=5,
                      seasonal=True, m=12)

# #############################################################################
# Plot actual test vs. forecasts:
x = np.arange(test.shape[0])
plt.scatter(x, test, marker='x')
plt.plot(x, arima.predict(n_periods=test.shape[0]))
plt.title('Actual test samples vs. forecasts')
plt.show()



# make your forecasts
forecasts = arima.predict(test.shape[0])  # predict N steps into the future

# Visualize the forecasts (blue=train, green=forecasts)
x = np.arange(y.shape[0])
plt.plot(x[:150], train, c='blue')
plt.plot(x[150:], forecasts, c='green')
plt.show()


from sklearn import tree

y = dailyAve[['relh','ws','temp']]
train, test = train_test_split(y, train_size=300)


X = np.array(train[['ws','temp']])
Y = np.array(train['relh'])
clf = tree.DecisionTreeRegressor()
clf = clf.fit(X, Y)
preds = clf.predict(X)

fig,ax = plt.subplots()
ax.scatter(Y,preds)


X = np.array(test[['ws','temp']])
Y = np.array(test['relh'])
preds = clf.predict(X)

fig,ax = plt.subplots()
ax.scatter(Y,preds)



from sklearn.neural_network import MLPRegressor
X = np.array(train[['ws','temp']])
Y = np.array(train['relh'])
regr = MLPRegressor(random_state=1, max_iter=1000).fit(X, Y)






import geopandas as gpd
import matplotlib.pyplot as plt


br = gpd.read_file(r"C:\Users\Leonardo.Hoinaski\Documents\ENS410064\dados\BR_Municipios_2022\BR_Municipios_2022.shp")
fig,ax = plt.subplots()
br.plot(ax=ax)


br


br[br['SIGLA_UF']=='SC'].plot()


br[br['SIGLA_UF']=='SC'].explore('AREA_KM2')





import rasterio
import rioxarray as rioxr
from affine import Affine


path =r"C:\Users\Leonardo.Hoinaski\Documents\ENS410064\dados\brasil_coverage_2022.tif"
dataset = rasterio.open(path)


dataRaster = rioxr.open_rasterio(path)
dataRaster






