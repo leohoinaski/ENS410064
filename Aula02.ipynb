{
 "cells": [
  {
   "cell_type": "markdown",
   "id": "d31f0152-c343-4a60-89d6-eacd4b8d8434",
   "metadata": {},
   "source": [
    "# Aula 02 - Python "
   ]
  },
  {
   "cell_type": "markdown",
   "id": "b89e24c0-9508-4cd0-93f9-ce3a84a68851",
   "metadata": {},
   "source": [
    "## Dados numéricos\n"
   ]
  },
  {
   "cell_type": "code",
   "execution_count": 14,
   "id": "5d6f2c0e-fac2-4d5c-8311-13eca4e5388c",
   "metadata": {},
   "outputs": [
    {
     "name": "stdout",
     "output_type": "stream",
     "text": [
      "Valor de a = 1\n"
     ]
    },
    {
     "data": {
      "text/plain": [
       "int"
      ]
     },
     "execution_count": 14,
     "metadata": {},
     "output_type": "execute_result"
    }
   ],
   "source": [
    "# Variável inteira\n",
    "a = 1\n",
    "print('Valor de a = '+str(a))\n",
    "type(a)"
   ]
  },
  {
   "cell_type": "code",
   "execution_count": 15,
   "id": "91600347-4a33-471a-9816-76397165badc",
   "metadata": {},
   "outputs": [
    {
     "name": "stdout",
     "output_type": "stream",
     "text": [
      "1.0\n"
     ]
    },
    {
     "data": {
      "text/plain": [
       "float"
      ]
     },
     "execution_count": 15,
     "metadata": {},
     "output_type": "execute_result"
    }
   ],
   "source": [
    "# Variável dupla precisão\n",
    "b = 1.0\n",
    "print(b)\n",
    "type(b)"
   ]
  },
  {
   "cell_type": "code",
   "execution_count": 16,
   "id": "5a4b58b1-a901-44d9-9ff5-814668031382",
   "metadata": {},
   "outputs": [
    {
     "name": "stdout",
     "output_type": "stream",
     "text": [
      "1\n"
     ]
    },
    {
     "data": {
      "text/plain": [
       "int"
      ]
     },
     "execution_count": 16,
     "metadata": {},
     "output_type": "execute_result"
    }
   ],
   "source": [
    "# Converter float para int\n",
    "c = int(b)\n",
    "print(c)\n",
    "type(c)"
   ]
  },
  {
   "cell_type": "code",
   "execution_count": 18,
   "id": "ce0c1630-0d14-4a39-bf19-37b1c58629a5",
   "metadata": {},
   "outputs": [
    {
     "name": "stdout",
     "output_type": "stream",
     "text": [
      "nan\n"
     ]
    },
    {
     "data": {
      "text/plain": [
       "float"
      ]
     },
     "execution_count": 18,
     "metadata": {},
     "output_type": "execute_result"
    }
   ],
   "source": [
    "# Delacrando nan\n",
    "import numpy as np\n",
    "d = np.nan\n",
    "print(d)\n",
    "type(d)"
   ]
  },
  {
   "cell_type": "code",
   "execution_count": 22,
   "id": "0093bb97-ef26-4dd9-9f39-66058a0a6127",
   "metadata": {},
   "outputs": [
    {
     "name": "stdout",
     "output_type": "stream",
     "text": [
      "nan\n",
      "nan\n",
      "1.0\n"
     ]
    }
   ],
   "source": [
    "# Operação com NaN\n",
    "e = d*1\n",
    "print(e)\n",
    "e = d+1\n",
    "print(e)\n",
    "e = np.nansum([d,1])\n",
    "print(e)"
   ]
  },
  {
   "cell_type": "markdown",
   "id": "fc6933d7-5694-4ae0-b434-6061ad3c4082",
   "metadata": {},
   "source": [
    "## Dados de texto"
   ]
  },
  {
   "cell_type": "code",
   "execution_count": 26,
   "id": "b7c62fbf-3fef-4752-a5e6-303d5b555036",
   "metadata": {},
   "outputs": [
    {
     "name": "stdout",
     "output_type": "stream",
     "text": [
      "Fábio\n",
      "Gabriel\n",
      "FábioGabriel\n",
      "Fábio Gabriel\n"
     ]
    }
   ],
   "source": [
    "# Declaração de variável texto\n",
    "f = 'Fábio'\n",
    "g = \"Gabriel\"\n",
    "print(f)\n",
    "print(g)\n",
    "print(f+g)\n",
    "print(f+' '+g)"
   ]
  },
  {
   "cell_type": "markdown",
   "id": "eb904201-8553-436f-a33c-d854341aaa4b",
   "metadata": {},
   "source": [
    "## Dados tipo bool - lógica"
   ]
  },
  {
   "cell_type": "code",
   "execution_count": 27,
   "id": "143d52a7-c148-46d3-9c9b-f320592336e7",
   "metadata": {},
   "outputs": [
    {
     "data": {
      "text/plain": [
       "True"
      ]
     },
     "execution_count": 27,
     "metadata": {},
     "output_type": "execute_result"
    }
   ],
   "source": [
    "a == 1"
   ]
  },
  {
   "cell_type": "code",
   "execution_count": 30,
   "id": "b442cb89-d5ee-4177-993b-fe780af38713",
   "metadata": {},
   "outputs": [
    {
     "name": "stdout",
     "output_type": "stream",
     "text": [
      "True\n"
     ]
    },
    {
     "data": {
      "text/plain": [
       "bool"
      ]
     },
     "execution_count": 30,
     "metadata": {},
     "output_type": "execute_result"
    }
   ],
   "source": [
    "h = (a==1)\n",
    "print(h)\n",
    "type(h)"
   ]
  },
  {
   "cell_type": "code",
   "execution_count": 31,
   "id": "86e8d075-b079-4ea2-8a3f-2278fcbf8539",
   "metadata": {},
   "outputs": [
    {
     "name": "stdout",
     "output_type": "stream",
     "text": [
      "False\n"
     ]
    },
    {
     "data": {
      "text/plain": [
       "bool"
      ]
     },
     "execution_count": 31,
     "metadata": {},
     "output_type": "execute_result"
    }
   ],
   "source": [
    "h = (a==2)\n",
    "print(h)\n",
    "type(h)"
   ]
  },
  {
   "cell_type": "code",
   "execution_count": 34,
   "id": "dad82d9d-3170-4c41-b9e1-e4ed377eda5b",
   "metadata": {},
   "outputs": [
    {
     "data": {
      "text/plain": [
       "bool"
      ]
     },
     "execution_count": 34,
     "metadata": {},
     "output_type": "execute_result"
    }
   ],
   "source": [
    "i = True\n",
    "type(i)"
   ]
  },
  {
   "cell_type": "code",
   "execution_count": 35,
   "id": "be92fcbe-cf15-4c69-a873-e76c995d0077",
   "metadata": {},
   "outputs": [
    {
     "data": {
      "text/plain": [
       "str"
      ]
     },
     "execution_count": 35,
     "metadata": {},
     "output_type": "execute_result"
    }
   ],
   "source": [
    "ii = 'True'\n",
    "type(ii)"
   ]
  },
  {
   "cell_type": "markdown",
   "id": "fa3a0535-6aa1-4957-bf40-5852e5120af1",
   "metadata": {},
   "source": [
    "\n",
    "#### Operação de comparação "
   ]
  },
  {
   "cell_type": "code",
   "execution_count": 37,
   "id": "adba9a37-9fe1-46fa-87b1-88ffd6335360",
   "metadata": {},
   "outputs": [
    {
     "data": {
      "text/plain": [
       "True"
      ]
     },
     "execution_count": 37,
     "metadata": {},
     "output_type": "execute_result"
    }
   ],
   "source": [
    "# Operação ==\n",
    "a==b"
   ]
  },
  {
   "cell_type": "code",
   "execution_count": 38,
   "id": "1e872e04-6a58-4bf2-84fd-ea22ebcd883b",
   "metadata": {},
   "outputs": [
    {
     "data": {
      "text/plain": [
       "False"
      ]
     },
     "execution_count": 38,
     "metadata": {},
     "output_type": "execute_result"
    }
   ],
   "source": [
    "# Operação ><\n",
    "a>b"
   ]
  },
  {
   "cell_type": "code",
   "execution_count": 39,
   "id": "20ddab80-3e5b-4e62-aede-4f57b5a17a39",
   "metadata": {},
   "outputs": [
    {
     "data": {
      "text/plain": [
       "False"
      ]
     },
     "execution_count": 39,
     "metadata": {},
     "output_type": "execute_result"
    }
   ],
   "source": [
    "# Operação !=\n",
    "a!=b"
   ]
  },
  {
   "cell_type": "code",
   "execution_count": 40,
   "id": "8a8dbf71-6b28-4772-aaa1-35d040ce87bf",
   "metadata": {},
   "outputs": [
    {
     "data": {
      "text/plain": [
       "True"
      ]
     },
     "execution_count": 40,
     "metadata": {},
     "output_type": "execute_result"
    }
   ],
   "source": [
    "# Operação >= ou <=\n",
    "a>=b"
   ]
  },
  {
   "cell_type": "markdown",
   "id": "bf09e6a7-4dba-45c9-8653-eea13e839437",
   "metadata": {},
   "source": [
    "## Operações matemáticas"
   ]
  },
  {
   "cell_type": "code",
   "execution_count": 42,
   "id": "d2eb360b-973a-45bc-9176-d616676b3a4b",
   "metadata": {},
   "outputs": [
    {
     "data": {
      "text/plain": [
       "2.0"
      ]
     },
     "execution_count": 42,
     "metadata": {},
     "output_type": "execute_result"
    }
   ],
   "source": [
    "# Soma \n",
    "a+b"
   ]
  },
  {
   "cell_type": "code",
   "execution_count": 43,
   "id": "71cebfb9-c3cb-4bda-9ffb-7cc679d98dad",
   "metadata": {},
   "outputs": [
    {
     "name": "stdout",
     "output_type": "stream",
     "text": [
      "2.0\n"
     ]
    }
   ],
   "source": [
    "# Soma e atribui valor\n",
    "ab = a+b\n",
    "print(ab)"
   ]
  },
  {
   "cell_type": "code",
   "execution_count": 46,
   "id": "777ac0d8-adb6-4853-9088-c38d7efc08a1",
   "metadata": {},
   "outputs": [
    {
     "name": "stdout",
     "output_type": "stream",
     "text": [
      "Não use l como nome de variável\n",
      "1.0\n"
     ]
    }
   ],
   "source": [
    "# Multiplicação\n",
    "l = a*b # Não use l como variável\n",
    "print(\"Não use l como nome de variável\")\n",
    "j = a*b\n",
    "print(j)"
   ]
  },
  {
   "cell_type": "code",
   "execution_count": 47,
   "id": "e58bd10a-37c3-4837-9ec1-47937cc14818",
   "metadata": {},
   "outputs": [
    {
     "data": {
      "text/plain": [
       "1.0"
      ]
     },
     "execution_count": 47,
     "metadata": {},
     "output_type": "execute_result"
    }
   ],
   "source": [
    "# Divisão\n",
    "a/b"
   ]
  },
  {
   "cell_type": "code",
   "execution_count": 49,
   "id": "c6e65019-4ac7-4fa5-8392-07d0c29324f3",
   "metadata": {},
   "outputs": [
    {
     "data": {
      "text/plain": [
       "25"
      ]
     },
     "execution_count": 49,
     "metadata": {},
     "output_type": "execute_result"
    }
   ],
   "source": [
    "# Potencia\n",
    "5**2"
   ]
  },
  {
   "cell_type": "code",
   "execution_count": 51,
   "id": "23db479a-1877-4610-ac42-410914433042",
   "metadata": {},
   "outputs": [
    {
     "data": {
      "text/plain": [
       "22026.465794806718"
      ]
     },
     "execution_count": 51,
     "metadata": {},
     "output_type": "execute_result"
    }
   ],
   "source": [
    "# Operações matemáticas com a bibliotéca math\n",
    "import math\n",
    "\n",
    "math.exp(10)"
   ]
  },
  {
   "cell_type": "code",
   "execution_count": 55,
   "id": "85b97e92-8198-4565-b5f4-69b438a8d989",
   "metadata": {},
   "outputs": [
    {
     "data": {
      "text/plain": [
       "1.0"
      ]
     },
     "execution_count": 55,
     "metadata": {},
     "output_type": "execute_result"
    }
   ],
   "source": [
    "math.exp(0)"
   ]
  },
  {
   "cell_type": "code",
   "execution_count": 56,
   "id": "2f880c7c-0fae-4dfd-949c-f9dbeee90eb7",
   "metadata": {},
   "outputs": [
    {
     "data": {
      "text/plain": [
       "2.718281828459045"
      ]
     },
     "execution_count": 56,
     "metadata": {},
     "output_type": "execute_result"
    }
   ],
   "source": [
    "math.exp(a)"
   ]
  },
  {
   "cell_type": "code",
   "execution_count": 58,
   "id": "6ed6cad4-915f-4ddb-af3c-8ce3a7338d80",
   "metadata": {},
   "outputs": [
    {
     "data": {
      "text/plain": [
       "4.5399929762484854e-05"
      ]
     },
     "execution_count": 58,
     "metadata": {},
     "output_type": "execute_result"
    }
   ],
   "source": [
    "math.exp(-10)"
   ]
  },
  {
   "cell_type": "code",
   "execution_count": 60,
   "id": "c0d35357-b289-44cb-aa30-27b4777f17fb",
   "metadata": {},
   "outputs": [
    {
     "data": {
      "text/plain": [
       "0.0"
      ]
     },
     "execution_count": 60,
     "metadata": {},
     "output_type": "execute_result"
    }
   ],
   "source": [
    "import math as mt\n",
    "mt.log(c)"
   ]
  },
  {
   "cell_type": "code",
   "execution_count": 61,
   "id": "21f1b0f9-4052-4534-b9f0-73a27e31bff9",
   "metadata": {},
   "outputs": [
    {
     "data": {
      "text/plain": [
       "2.0"
      ]
     },
     "execution_count": 61,
     "metadata": {},
     "output_type": "execute_result"
    }
   ],
   "source": [
    "mt.log10(100)"
   ]
  },
  {
   "cell_type": "markdown",
   "id": "8afc1a86-dc8c-49ff-a18f-635415c17bd9",
   "metadata": {},
   "source": [
    "## Listas"
   ]
  },
  {
   "cell_type": "code",
   "execution_count": 64,
   "id": "8c8cfd71-f27f-44fd-9b8c-d985e8a11834",
   "metadata": {},
   "outputs": [
    {
     "name": "stdout",
     "output_type": "stream",
     "text": [
      "[1, 2, 3]\n"
     ]
    }
   ],
   "source": [
    "myFirstList = [1,2,3]\n",
    "print(myFirstList)"
   ]
  },
  {
   "cell_type": "code",
   "execution_count": 66,
   "id": "dc8f5894-92c7-4894-a3c5-c870b2660b4e",
   "metadata": {},
   "outputs": [
    {
     "name": "stdout",
     "output_type": "stream",
     "text": [
      "1\n",
      "3\n"
     ]
    }
   ],
   "source": [
    "# Acessando valores da lista pelo index\n",
    "print(myFirstList[0])\n",
    "print(myFirstList[2])"
   ]
  },
  {
   "cell_type": "code",
   "execution_count": 67,
   "id": "ba1a29be-9c52-430f-80e0-efcbbcd1c839",
   "metadata": {},
   "outputs": [
    {
     "data": {
      "text/plain": [
       "False"
      ]
     },
     "execution_count": 67,
     "metadata": {},
     "output_type": "execute_result"
    }
   ],
   "source": [
    "myFirstList==a"
   ]
  },
  {
   "cell_type": "code",
   "execution_count": 68,
   "id": "074afd7f-a318-4910-854d-25b49fe018e2",
   "metadata": {},
   "outputs": [
    {
     "data": {
      "text/plain": [
       "True"
      ]
     },
     "execution_count": 68,
     "metadata": {},
     "output_type": "execute_result"
    }
   ],
   "source": [
    "myFirstList[0]==a"
   ]
  },
  {
   "cell_type": "code",
   "execution_count": 77,
   "id": "4eae631a-e38e-4159-8ba9-b4e38425aaaf",
   "metadata": {},
   "outputs": [
    {
     "name": "stdout",
     "output_type": "stream",
     "text": [
      "[1, 1, 'c']\n"
     ]
    }
   ],
   "source": [
    "mySecList = [1,a,'c']\n",
    "print(mySecList)"
   ]
  },
  {
   "cell_type": "code",
   "execution_count": 70,
   "id": "a79b6266-aca0-489b-b988-e4492380a999",
   "metadata": {},
   "outputs": [
    {
     "data": {
      "text/plain": [
       "list"
      ]
     },
     "execution_count": 70,
     "metadata": {},
     "output_type": "execute_result"
    }
   ],
   "source": [
    "type(mySecList)"
   ]
  },
  {
   "cell_type": "code",
   "execution_count": 74,
   "id": "f9688ad8-a8e7-4721-be5b-47631f14ec3c",
   "metadata": {},
   "outputs": [
    {
     "data": {
      "text/plain": [
       "str"
      ]
     },
     "execution_count": 74,
     "metadata": {},
     "output_type": "execute_result"
    }
   ],
   "source": [
    "type(mySecList[2])"
   ]
  },
  {
   "cell_type": "code",
   "execution_count": 78,
   "id": "367e2489-9316-4e55-a983-ea2396b5cd0e",
   "metadata": {},
   "outputs": [
    {
     "data": {
      "text/plain": [
       "int"
      ]
     },
     "execution_count": 78,
     "metadata": {},
     "output_type": "execute_result"
    }
   ],
   "source": [
    "type(mySecList[1])"
   ]
  },
  {
   "cell_type": "markdown",
   "id": "1f333bb1-4ba1-46a7-a016-4065f31a0ceb",
   "metadata": {},
   "source": [
    "## Caminhos = path"
   ]
  },
  {
   "cell_type": "code",
   "execution_count": 83,
   "id": "4d285c47-d66f-4df2-9802-04747a115338",
   "metadata": {},
   "outputs": [
    {
     "name": "stdout",
     "output_type": "stream",
     "text": [
      "C:\\Users\\Leonardo.Hoinaski\\Documents\\ENS410064_1\n"
     ]
    }
   ],
   "source": [
    "path = r\"C:\\Users\\Leonardo.Hoinaski\\Documents\\ENS410064_1\"\n",
    "print(path)"
   ]
  },
  {
   "cell_type": "code",
   "execution_count": 84,
   "id": "e199b287-ac96-4a6a-b2a5-47965ef681fe",
   "metadata": {},
   "outputs": [
    {
     "name": "stdout",
     "output_type": "stream",
     "text": [
      "C:/Users/Leonardo.Hoinaski/Documents/ENS410064_1\n"
     ]
    }
   ],
   "source": [
    "path = \"C:/Users/Leonardo.Hoinaski/Documents/ENS410064_1\"\n",
    "print(path)"
   ]
  },
  {
   "cell_type": "code",
   "execution_count": 88,
   "id": "d89169c2-8652-4b92-b407-678a1ce8e556",
   "metadata": {},
   "outputs": [
    {
     "data": {
      "text/plain": [
       "['.git', '.gitignore', 'dados', 'Doc1.docx', 'pyenv', 'README.md', 'scripts']"
      ]
     },
     "execution_count": 88,
     "metadata": {},
     "output_type": "execute_result"
    }
   ],
   "source": [
    "import os\n",
    "# Listar arquivos na pasta\n",
    "os.listdir(path)"
   ]
  },
  {
   "cell_type": "code",
   "execution_count": 87,
   "id": "c9d3fb83-b63d-423a-a751-825e4506c265",
   "metadata": {},
   "outputs": [
    {
     "data": {
      "text/plain": [
       "'.git'"
      ]
     },
     "execution_count": 87,
     "metadata": {},
     "output_type": "execute_result"
    }
   ],
   "source": [
    "# Selecionar primeiro arquivo listado\n",
    "os.listdir(path)[0]"
   ]
  },
  {
   "cell_type": "code",
   "execution_count": 91,
   "id": "d245e702-d867-4150-b4f0-04d4c955566d",
   "metadata": {},
   "outputs": [
    {
     "data": {
      "text/plain": [
       "'C:/Users/Leonardo.Hoinaski/Documents/ENS410064_1/.git'"
      ]
     },
     "execution_count": 91,
     "metadata": {},
     "output_type": "execute_result"
    }
   ],
   "source": [
    "# Concatenando caminhos\n",
    "path+\"/\"+os.listdir(path)[0]"
   ]
  },
  {
   "cell_type": "code",
   "execution_count": 92,
   "id": "d5ecbb52-3579-4826-8ebf-7a8f985abc7a",
   "metadata": {},
   "outputs": [
    {
     "data": {
      "text/plain": [
       "['COMMIT_EDITMSG',\n",
       " 'config',\n",
       " 'description',\n",
       " 'FETCH_HEAD',\n",
       " 'HEAD',\n",
       " 'hooks',\n",
       " 'index',\n",
       " 'info',\n",
       " 'logs',\n",
       " 'objects',\n",
       " 'packed-refs',\n",
       " 'refs']"
      ]
     },
     "execution_count": 92,
     "metadata": {},
     "output_type": "execute_result"
    }
   ],
   "source": [
    "# Listando caminho concatenado\n",
    "os.listdir(path+\"/\"+os.listdir(path)[0])"
   ]
  },
  {
   "cell_type": "code",
   "execution_count": 99,
   "id": "8f3657fd-4b25-4bf7-89e0-0ed245b575ea",
   "metadata": {},
   "outputs": [
    {
     "data": {
      "text/plain": [
       "'C:\\\\Users\\\\Leonardo.Hoinaski\\\\Documents\\\\ENS410064_1\\\\.git'"
      ]
     },
     "execution_count": 99,
     "metadata": {},
     "output_type": "execute_result"
    }
   ],
   "source": [
    "# Diretório que estou trababalhando\n",
    "os.getcwd()"
   ]
  },
  {
   "cell_type": "code",
   "execution_count": 100,
   "id": "22099c9b-466f-41df-ade4-e5f0e7f65f75",
   "metadata": {},
   "outputs": [],
   "source": [
    "# Mudo de diretório para o caminho \n",
    "os.chdir('C:\\\\Users\\\\Leonardo.Hoinaski\\\\Documents\\\\')"
   ]
  },
  {
   "cell_type": "code",
   "execution_count": 101,
   "id": "2e77b162-270d-4744-ba5c-1824840702ec",
   "metadata": {},
   "outputs": [
    {
     "data": {
      "text/plain": [
       "'C:\\\\Users\\\\Leonardo.Hoinaski\\\\Documents'"
      ]
     },
     "execution_count": 101,
     "metadata": {},
     "output_type": "execute_result"
    }
   ],
   "source": [
    "os.getcwd()"
   ]
  },
  {
   "cell_type": "code",
   "execution_count": 104,
   "id": "64be32cb-cbe3-4f46-9543-e08e8eef96e4",
   "metadata": {},
   "outputs": [
    {
     "name": "stdout",
     "output_type": "stream",
     "text": [
      "diretório já existe\n"
     ]
    }
   ],
   "source": [
    "# Criando diretório\n",
    "new_path = os.getcwd()+'/test'\n",
    "\n",
    "if os.path.isdir(new_path):\n",
    "    print('diretório já existe')\n",
    "else:\n",
    "    print('Criando diretório '+new_path)\n",
    "    os.mkdir(new_path)"
   ]
  },
  {
   "cell_type": "code",
   "execution_count": 111,
   "id": "f9ea7e7d-d37f-4794-9f53-6e796097bbbc",
   "metadata": {},
   "outputs": [
    {
     "name": "stdout",
     "output_type": "stream",
     "text": [
      "Criando diretório C:\\Users\\Leonardo.Hoinaski\\Documents/test2\n"
     ]
    }
   ],
   "source": [
    "# Criando diretório\n",
    "new_path = os.getcwd()+'/test2'\n",
    "\n",
    "if os.path.isdir(new_path):\n",
    "    print('diretório já existe')\n",
    "    # Criando um arquivo de texto\n",
    "    with open(new_path+\"/copy.txt\", \"w\") as file:\n",
    "        file.write(\"Your text goes here\")\n",
    "else:\n",
    "    print('Criando diretório '+new_path)\n",
    "    os.mkdir(new_path)\n",
    "    with open(new_path+\"/copy.txt\", \"w\") as file:\n",
    "        file.write(\"Your text goes here\")"
   ]
  },
  {
   "cell_type": "markdown",
   "id": "08aabd5c-c52a-4764-8442-c2478c50d54a",
   "metadata": {},
   "source": [
    "## Numpy arrays e Pandas DataFrames"
   ]
  },
  {
   "cell_type": "code",
   "execution_count": 114,
   "id": "f675d93d-2377-4b81-8169-e467fa10d060",
   "metadata": {},
   "outputs": [
    {
     "data": {
      "text/plain": [
       "numpy.ndarray"
      ]
     },
     "execution_count": 114,
     "metadata": {},
     "output_type": "execute_result"
    }
   ],
   "source": [
    "import numpy as np\n",
    "# Criando uma variável numpy\n",
    "n = np.array(0)\n",
    "type(n)"
   ]
  },
  {
   "cell_type": "code",
   "execution_count": 115,
   "id": "f3cf526c-49db-4d59-82f1-ff08738bed8b",
   "metadata": {},
   "outputs": [
    {
     "name": "stdout",
     "output_type": "stream",
     "text": [
      "[ 1  2  3 10 20 55]\n"
     ]
    }
   ],
   "source": [
    "# Criando uma variável numpy a partir de uma lista\n",
    "myThirdList=[1,2,3,10,20,55]\n",
    "n = np.array(myThirdList)\n",
    "print(n)"
   ]
  },
  {
   "cell_type": "code",
   "execution_count": 121,
   "id": "72f8a5fc-7d91-46ed-82cf-686bf015eed9",
   "metadata": {},
   "outputs": [
    {
     "name": "stdout",
     "output_type": "stream",
     "text": [
      "[[0.05078452 0.97829287 0.13950372 0.39188034 0.61730865 0.03872888\n",
      "  0.57060336 0.2569905  0.51036029 0.15369759]\n",
      " [0.75772955 0.24637205 0.81203505 0.88490541 0.85044071 0.16307961\n",
      "  0.46899566 0.53743524 0.40270142 0.07686154]\n",
      " [0.75614316 0.45685273 0.64750815 0.38852784 0.53084051 0.14052056\n",
      "  0.642895   0.518659   0.93008863 0.34380361]\n",
      " [0.89161684 0.13049676 0.98895012 0.53191236 0.08039974 0.90916989\n",
      "  0.26362699 0.70746546 0.33198333 0.56351129]\n",
      " [0.95088524 0.67709542 0.3752876  0.50219071 0.62705672 0.07321533\n",
      "  0.7249236  0.38207932 0.02995971 0.92298874]\n",
      " [0.05486369 0.03368911 0.95664639 0.66888773 0.58755266 0.7628229\n",
      "  0.74743534 0.09955247 0.86659315 0.51215945]\n",
      " [0.68893777 0.02981072 0.39723447 0.66158982 0.51280011 0.15481711\n",
      "  0.37101771 0.04600595 0.58988553 0.75283786]\n",
      " [0.21478731 0.07847559 0.39330378 0.40993826 0.82473682 0.33431628\n",
      "  0.60708222 0.02240243 0.1731405  0.86261488]\n",
      " [0.50162579 0.52478135 0.36963115 0.38144351 0.58976797 0.73917079\n",
      "  0.71713707 0.35031315 0.35945597 0.71377992]\n",
      " [0.55540415 0.2486218  0.24131725 0.32076594 0.06129268 0.56456909\n",
      "  0.61002646 0.86400609 0.90581742 0.83732653]]\n",
      "(10, 10)\n"
     ]
    }
   ],
   "source": [
    "# Criando uma matriz de 10x10 de números aleatórios entre 0 e 1\n",
    "n = np.random.rand(10,10)\n",
    "print(n)\n",
    "# Dimensões da matrix\n",
    "print(n.shape)"
   ]
  },
  {
   "cell_type": "code",
   "execution_count": 126,
   "id": "6b8316a4-90dd-443e-af46-9aa13b5798c0",
   "metadata": {},
   "outputs": [
    {
     "data": {
      "text/plain": [
       "array([0.05078452, 0.97829287, 0.13950372, 0.39188034, 0.61730865,\n",
       "       0.03872888, 0.57060336, 0.2569905 , 0.51036029, 0.15369759])"
      ]
     },
     "execution_count": 126,
     "metadata": {},
     "output_type": "execute_result"
    }
   ],
   "source": [
    "# Acessando valores da matriz\n",
    "n[0,:]"
   ]
  },
  {
   "cell_type": "code",
   "execution_count": 128,
   "id": "6f26f05b-20c9-4cfe-8509-66cd2871ad62",
   "metadata": {},
   "outputs": [
    {
     "data": {
      "text/plain": [
       "array([0.05078452, 0.75772955, 0.75614316, 0.89161684, 0.95088524,\n",
       "       0.05486369, 0.68893777, 0.21478731, 0.50162579, 0.55540415])"
      ]
     },
     "execution_count": 128,
     "metadata": {},
     "output_type": "execute_result"
    }
   ],
   "source": [
    "n[:,0]"
   ]
  },
  {
   "cell_type": "code",
   "execution_count": 129,
   "id": "164e5fd9-2bf4-4531-adca-c0288afbdbf6",
   "metadata": {},
   "outputs": [
    {
     "data": {
      "text/plain": [
       "array([[0.97829287, 0.13950372, 0.39188034, 0.61730865],\n",
       "       [0.24637205, 0.81203505, 0.88490541, 0.85044071],\n",
       "       [0.45685273, 0.64750815, 0.38852784, 0.53084051],\n",
       "       [0.13049676, 0.98895012, 0.53191236, 0.08039974],\n",
       "       [0.67709542, 0.3752876 , 0.50219071, 0.62705672],\n",
       "       [0.03368911, 0.95664639, 0.66888773, 0.58755266],\n",
       "       [0.02981072, 0.39723447, 0.66158982, 0.51280011],\n",
       "       [0.07847559, 0.39330378, 0.40993826, 0.82473682],\n",
       "       [0.52478135, 0.36963115, 0.38144351, 0.58976797],\n",
       "       [0.2486218 , 0.24131725, 0.32076594, 0.06129268]])"
      ]
     },
     "execution_count": 129,
     "metadata": {},
     "output_type": "execute_result"
    }
   ],
   "source": [
    "n[:,1:5]"
   ]
  },
  {
   "cell_type": "code",
   "execution_count": 130,
   "id": "312b9460-fb33-4e08-a1f4-d1abdd6008cc",
   "metadata": {},
   "outputs": [
    {
     "data": {
      "text/plain": [
       "array([0.97829287, 0.13950372, 0.39188034, 0.61730865])"
      ]
     },
     "execution_count": 130,
     "metadata": {},
     "output_type": "execute_result"
    }
   ],
   "source": [
    "n[0,1:5]"
   ]
  },
  {
   "cell_type": "code",
   "execution_count": 131,
   "id": "58394e59-02c3-4bb8-a9ad-c6df6b3c8458",
   "metadata": {},
   "outputs": [
    {
     "data": {
      "text/plain": [
       "0.15369758847080583"
      ]
     },
     "execution_count": 131,
     "metadata": {},
     "output_type": "execute_result"
    }
   ],
   "source": [
    "n[0,-1]"
   ]
  },
  {
   "cell_type": "code",
   "execution_count": 132,
   "id": "30569544-bb9c-4de4-8ee2-05711e7c12b2",
   "metadata": {},
   "outputs": [
    {
     "data": {
      "text/plain": [
       "array([0.61730865, 0.03872888, 0.57060336, 0.2569905 , 0.51036029])"
      ]
     },
     "execution_count": 132,
     "metadata": {},
     "output_type": "execute_result"
    }
   ],
   "source": [
    "n[0,4:-1]"
   ]
  },
  {
   "cell_type": "code",
   "execution_count": 133,
   "id": "c93f59fd-dd20-4c54-adbb-b40bbfe0bdb9",
   "metadata": {},
   "outputs": [
    {
     "data": {
      "text/plain": [
       "array([0.61730865, 0.03872888, 0.57060336, 0.2569905 , 0.51036029,\n",
       "       0.15369759])"
      ]
     },
     "execution_count": 133,
     "metadata": {},
     "output_type": "execute_result"
    }
   ],
   "source": [
    "n[0,4:]"
   ]
  },
  {
   "cell_type": "code",
   "execution_count": 135,
   "id": "dd7867a0-1b34-40a5-9f4e-ffb6b41d6a44",
   "metadata": {},
   "outputs": [
    {
     "name": "stdout",
     "output_type": "stream",
     "text": [
      "[[-1.37072576  1.58749172 -0.36022609  0.67263917  1.12705177 -1.6417318\n",
      "   1.04837697  0.25072175  0.93679956 -0.26333041]\n",
      " [ 1.33200916  0.20852542  1.40122614  1.48716339  1.44743733 -0.20407888\n",
      "   0.85227614  0.9884909   0.69987804 -0.95631171]\n",
      " [ 1.32991336  0.82604371  1.17481402  0.66404746  0.97614425 -0.35296357\n",
      "   1.16766405  0.95292926  1.53696252  0.54175322]\n",
      " [ 1.49471912 -0.42696897  1.59832653  0.97816137 -0.91130637  1.5142146\n",
      "   0.27621781  1.26337144  0.5067674   1.03586999]\n",
      " [ 1.55907602  1.21949485  0.62937529  0.92066259  1.14271964 -1.00491258\n",
      "   1.28774891  0.64731088 -1.89846381  1.52929967]\n",
      " [-1.29346568 -1.78114287  1.56511645  1.20729887  1.0776485   1.33870853\n",
      "   1.31833043 -0.69763256  1.46625224  0.94031864]\n",
      " [ 1.23683358 -1.90344929  0.68620933  1.19632839  0.94156876 -0.25607287\n",
      "   0.61793244 -1.46954671  1.08161114  1.32553251]\n",
      " [ 0.07133093 -0.93552972  0.67626492  0.7176892   1.41674696  0.51377013\n",
      "   1.11034686 -2.18914778 -0.14421397  1.46165097]\n",
      " [ 0.91953703  0.96466434  0.61418824  0.6456454   1.08141182  1.30721164\n",
      "   1.27694963  0.5605101   0.58627432  1.27225731]\n",
      " [ 1.02137868  0.2176155   0.18779507  0.47239433 -1.18265689  1.0377454\n",
      "   1.11518497  1.46326246  1.51052039  1.43189674]]\n"
     ]
    }
   ],
   "source": [
    "an = np.log(n*5)\n",
    "print(an)"
   ]
  },
  {
   "cell_type": "code",
   "execution_count": null,
   "id": "29f1ab41-bb9d-4ec8-ba2f-b881af8408c6",
   "metadata": {},
   "outputs": [],
   "source": []
  }
 ],
 "metadata": {
  "kernelspec": {
   "display_name": "Python 3 (ipykernel)",
   "language": "python",
   "name": "python3"
  },
  "language_info": {
   "codemirror_mode": {
    "name": "ipython",
    "version": 3
   },
   "file_extension": ".py",
   "mimetype": "text/x-python",
   "name": "python",
   "nbconvert_exporter": "python",
   "pygments_lexer": "ipython3",
   "version": "3.11.5"
  }
 },
 "nbformat": 4,
 "nbformat_minor": 5
}
